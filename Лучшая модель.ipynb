{
 "cells": [
  {
   "cell_type": "code",
   "execution_count": 1,
   "id": "16a4f866",
   "metadata": {},
   "outputs": [],
   "source": [
    "from sklearn.ensemble import RandomForestClassifier\n",
    "from sklearn.linear_model import LogisticRegression, LinearRegression\n",
    "from sklearn.metrics import accuracy_score, confusion_matrix, mean_absolute_error, roc_curve, roc_auc_score\n",
    "from sklearn.model_selection import train_test_split, cross_val_score, cross_validate\n",
    "from sklearn.neural_network import MLPClassifier\n",
    "import pandas as pd\n",
    "from sklearn.preprocessing import OneHotEncoder\n",
    "from sklearn.preprocessing import StandardScaler\n",
    "from sklearn.svm import SVC\n",
    "from sklearn.model_selection import GridSearchCV, RandomizedSearchCV\n",
    "from sklearn.tree import DecisionTreeClassifier\n",
    "from sklearn.neighbors import KNeighborsClassifier\n",
    "from sklearn.metrics import roc_curve, precision_recall_curve, recall_score\n",
    "import matplotlib.pyplot as plt\n",
    "plt.style.use(\"ggplot\")\n",
    "from sklearn.metrics import roc_curve, precision_recall_curve, auc, make_scorer, recall_score, accuracy_score, precision_score, confusion_matrix\n",
    "import numpy as np\n",
    "import pandas as pd\n",
    "import matplotlib.pyplot as plt\n",
    "import seaborn as sns\n",
    "import catboost as cb\n",
    "from imblearn.under_sampling import NearMiss\n",
    "from imblearn.over_sampling import SMOTE\n",
    "import xgboost\n",
    "from imblearn.ensemble import BalancedBaggingClassifier \n",
    "from imblearn.ensemble import BalancedRandomForestClassifier \n",
    "from sklearn.metrics import f1_score\n",
    "import warnings\n",
    "warnings.filterwarnings('ignore')"
   ]
  },
  {
   "cell_type": "code",
   "execution_count": 2,
   "id": "1f1f1c2f",
   "metadata": {},
   "outputs": [
    {
     "data": {
      "text/plain": [
       "(39074, 16)"
      ]
     },
     "execution_count": 2,
     "metadata": {},
     "output_type": "execute_result"
    }
   ],
   "source": [
    "df = pd.read_csv('train.csv')\n",
    "df.shape"
   ]
  },
  {
   "cell_type": "code",
   "execution_count": 3,
   "id": "4d193b95",
   "metadata": {},
   "outputs": [
    {
     "data": {
      "text/html": [
       "<div>\n",
       "<style scoped>\n",
       "    .dataframe tbody tr th:only-of-type {\n",
       "        vertical-align: middle;\n",
       "    }\n",
       "\n",
       "    .dataframe tbody tr th {\n",
       "        vertical-align: top;\n",
       "    }\n",
       "\n",
       "    .dataframe thead th {\n",
       "        text-align: right;\n",
       "    }\n",
       "</style>\n",
       "<table border=\"1\" class=\"dataframe\">\n",
       "  <thead>\n",
       "    <tr style=\"text-align: right;\">\n",
       "      <th></th>\n",
       "      <th>id</th>\n",
       "      <th>age</th>\n",
       "      <th>fnlwgt</th>\n",
       "      <th>educational-num</th>\n",
       "      <th>capital-gain</th>\n",
       "      <th>capital-loss</th>\n",
       "      <th>hours-per-week</th>\n",
       "      <th>is_rich</th>\n",
       "    </tr>\n",
       "  </thead>\n",
       "  <tbody>\n",
       "    <tr>\n",
       "      <th>count</th>\n",
       "      <td>39074.000000</td>\n",
       "      <td>39074.000000</td>\n",
       "      <td>3.907400e+04</td>\n",
       "      <td>39074.000000</td>\n",
       "      <td>39074.000000</td>\n",
       "      <td>39074.000000</td>\n",
       "      <td>39074.000000</td>\n",
       "      <td>39074.000000</td>\n",
       "    </tr>\n",
       "    <tr>\n",
       "      <th>mean</th>\n",
       "      <td>29304.500000</td>\n",
       "      <td>38.694631</td>\n",
       "      <td>1.895940e+05</td>\n",
       "      <td>10.074576</td>\n",
       "      <td>1046.173875</td>\n",
       "      <td>87.393433</td>\n",
       "      <td>40.433895</td>\n",
       "      <td>0.239520</td>\n",
       "    </tr>\n",
       "    <tr>\n",
       "      <th>std</th>\n",
       "      <td>11279.836546</td>\n",
       "      <td>13.731323</td>\n",
       "      <td>1.058920e+05</td>\n",
       "      <td>2.572794</td>\n",
       "      <td>7302.852120</td>\n",
       "      <td>403.706583</td>\n",
       "      <td>12.373732</td>\n",
       "      <td>0.426796</td>\n",
       "    </tr>\n",
       "    <tr>\n",
       "      <th>min</th>\n",
       "      <td>9768.000000</td>\n",
       "      <td>17.000000</td>\n",
       "      <td>1.228500e+04</td>\n",
       "      <td>1.000000</td>\n",
       "      <td>0.000000</td>\n",
       "      <td>0.000000</td>\n",
       "      <td>1.000000</td>\n",
       "      <td>0.000000</td>\n",
       "    </tr>\n",
       "    <tr>\n",
       "      <th>25%</th>\n",
       "      <td>19536.250000</td>\n",
       "      <td>28.000000</td>\n",
       "      <td>1.174770e+05</td>\n",
       "      <td>9.000000</td>\n",
       "      <td>0.000000</td>\n",
       "      <td>0.000000</td>\n",
       "      <td>40.000000</td>\n",
       "      <td>0.000000</td>\n",
       "    </tr>\n",
       "    <tr>\n",
       "      <th>50%</th>\n",
       "      <td>29304.500000</td>\n",
       "      <td>37.000000</td>\n",
       "      <td>1.781505e+05</td>\n",
       "      <td>10.000000</td>\n",
       "      <td>0.000000</td>\n",
       "      <td>0.000000</td>\n",
       "      <td>40.000000</td>\n",
       "      <td>0.000000</td>\n",
       "    </tr>\n",
       "    <tr>\n",
       "      <th>75%</th>\n",
       "      <td>39072.750000</td>\n",
       "      <td>48.000000</td>\n",
       "      <td>2.371285e+05</td>\n",
       "      <td>12.000000</td>\n",
       "      <td>0.000000</td>\n",
       "      <td>0.000000</td>\n",
       "      <td>45.000000</td>\n",
       "      <td>0.000000</td>\n",
       "    </tr>\n",
       "    <tr>\n",
       "      <th>max</th>\n",
       "      <td>48841.000000</td>\n",
       "      <td>90.000000</td>\n",
       "      <td>1.490400e+06</td>\n",
       "      <td>16.000000</td>\n",
       "      <td>99999.000000</td>\n",
       "      <td>4356.000000</td>\n",
       "      <td>99.000000</td>\n",
       "      <td>1.000000</td>\n",
       "    </tr>\n",
       "  </tbody>\n",
       "</table>\n",
       "</div>"
      ],
      "text/plain": [
       "                 id           age        fnlwgt  educational-num  \\\n",
       "count  39074.000000  39074.000000  3.907400e+04     39074.000000   \n",
       "mean   29304.500000     38.694631  1.895940e+05        10.074576   \n",
       "std    11279.836546     13.731323  1.058920e+05         2.572794   \n",
       "min     9768.000000     17.000000  1.228500e+04         1.000000   \n",
       "25%    19536.250000     28.000000  1.174770e+05         9.000000   \n",
       "50%    29304.500000     37.000000  1.781505e+05        10.000000   \n",
       "75%    39072.750000     48.000000  2.371285e+05        12.000000   \n",
       "max    48841.000000     90.000000  1.490400e+06        16.000000   \n",
       "\n",
       "       capital-gain  capital-loss  hours-per-week       is_rich  \n",
       "count  39074.000000  39074.000000    39074.000000  39074.000000  \n",
       "mean    1046.173875     87.393433       40.433895      0.239520  \n",
       "std     7302.852120    403.706583       12.373732      0.426796  \n",
       "min        0.000000      0.000000        1.000000      0.000000  \n",
       "25%        0.000000      0.000000       40.000000      0.000000  \n",
       "50%        0.000000      0.000000       40.000000      0.000000  \n",
       "75%        0.000000      0.000000       45.000000      0.000000  \n",
       "max    99999.000000   4356.000000       99.000000      1.000000  "
      ]
     },
     "execution_count": 3,
     "metadata": {},
     "output_type": "execute_result"
    }
   ],
   "source": [
    "df.describe()"
   ]
  },
  {
   "cell_type": "code",
   "execution_count": 4,
   "id": "6c5c7177",
   "metadata": {},
   "outputs": [
    {
     "name": "stdout",
     "output_type": "stream",
     "text": [
      "<class 'pandas.core.frame.DataFrame'>\n",
      "RangeIndex: 39074 entries, 0 to 39073\n",
      "Data columns (total 16 columns):\n",
      " #   Column           Non-Null Count  Dtype \n",
      "---  ------           --------------  ----- \n",
      " 0   id               39074 non-null  int64 \n",
      " 1   age              39074 non-null  int64 \n",
      " 2   workclass        39074 non-null  object\n",
      " 3   fnlwgt           39074 non-null  int64 \n",
      " 4   education        39074 non-null  object\n",
      " 5   educational-num  39074 non-null  int64 \n",
      " 6   marital-status   39074 non-null  object\n",
      " 7   occupation       39074 non-null  object\n",
      " 8   relationship     39074 non-null  object\n",
      " 9   race             39074 non-null  object\n",
      " 10  gender           39074 non-null  object\n",
      " 11  capital-gain     39074 non-null  int64 \n",
      " 12  capital-loss     39074 non-null  int64 \n",
      " 13  hours-per-week   39074 non-null  int64 \n",
      " 14  native-country   39074 non-null  object\n",
      " 15  is_rich          39074 non-null  int64 \n",
      "dtypes: int64(8), object(8)\n",
      "memory usage: 4.8+ MB\n"
     ]
    }
   ],
   "source": [
    "df.info()"
   ]
  },
  {
   "cell_type": "markdown",
   "id": "40eea9f7",
   "metadata": {},
   "source": [
    "## Пропуски отсутствуют"
   ]
  },
  {
   "cell_type": "code",
   "execution_count": 5,
   "id": "f13e8d65",
   "metadata": {},
   "outputs": [
    {
     "data": {
      "text/plain": [
       "id                 0\n",
       "age                0\n",
       "workclass          0\n",
       "fnlwgt             0\n",
       "education          0\n",
       "educational-num    0\n",
       "marital-status     0\n",
       "occupation         0\n",
       "relationship       0\n",
       "race               0\n",
       "gender             0\n",
       "capital-gain       0\n",
       "capital-loss       0\n",
       "hours-per-week     0\n",
       "native-country     0\n",
       "is_rich            0\n",
       "dtype: int64"
      ]
     },
     "execution_count": 5,
     "metadata": {},
     "output_type": "execute_result"
    }
   ],
   "source": [
    "df.isna().sum().sort_values(ascending=False)"
   ]
  },
  {
   "cell_type": "code",
   "execution_count": 7,
   "id": "d99ab5e0",
   "metadata": {},
   "outputs": [],
   "source": [
    "X = df.drop([\"is_rich\", \"id\", \"education\"], axis=1)\n",
    "y = df['is_rich']"
   ]
  },
  {
   "cell_type": "markdown",
   "id": "1a8e1cc9",
   "metadata": {},
   "source": [
    "## Выборка несбалансирована"
   ]
  },
  {
   "cell_type": "code",
   "execution_count": 8,
   "id": "2c6414cf",
   "metadata": {},
   "outputs": [
    {
     "data": {
      "text/plain": [
       "0    29715\n",
       "1     9359\n",
       "Name: is_rich, dtype: int64"
      ]
     },
     "execution_count": 8,
     "metadata": {},
     "output_type": "execute_result"
    }
   ],
   "source": [
    "y.value_counts()"
   ]
  },
  {
   "cell_type": "markdown",
   "id": "c0607b8f",
   "metadata": {},
   "source": [
    "## Разделение выборки с учетом несбалансированности"
   ]
  },
  {
   "cell_type": "code",
   "execution_count": 9,
   "id": "c93ec16d",
   "metadata": {},
   "outputs": [],
   "source": [
    "from sklearn.model_selection import train_test_split\n",
    "train_x, test_x, train_y, test_y = train_test_split(X, y, stratify=y, test_size=0.15, random_state=42)"
   ]
  },
  {
   "cell_type": "markdown",
   "id": "4dc64282",
   "metadata": {},
   "source": [
    "## Работа с выбросами"
   ]
  },
  {
   "cell_type": "code",
   "execution_count": 10,
   "id": "98a051c2",
   "metadata": {},
   "outputs": [
    {
     "data": {
      "text/html": [
       "<div>\n",
       "<style scoped>\n",
       "    .dataframe tbody tr th:only-of-type {\n",
       "        vertical-align: middle;\n",
       "    }\n",
       "\n",
       "    .dataframe tbody tr th {\n",
       "        vertical-align: top;\n",
       "    }\n",
       "\n",
       "    .dataframe thead th {\n",
       "        text-align: right;\n",
       "    }\n",
       "</style>\n",
       "<table border=\"1\" class=\"dataframe\">\n",
       "  <thead>\n",
       "    <tr style=\"text-align: right;\">\n",
       "      <th></th>\n",
       "      <th>id</th>\n",
       "      <th>age</th>\n",
       "      <th>fnlwgt</th>\n",
       "      <th>educational-num</th>\n",
       "      <th>capital-gain</th>\n",
       "      <th>capital-loss</th>\n",
       "      <th>hours-per-week</th>\n",
       "      <th>is_rich</th>\n",
       "    </tr>\n",
       "  </thead>\n",
       "  <tbody>\n",
       "    <tr>\n",
       "      <th>count</th>\n",
       "      <td>39074.000000</td>\n",
       "      <td>39074.000000</td>\n",
       "      <td>3.907400e+04</td>\n",
       "      <td>39074.000000</td>\n",
       "      <td>39074.000000</td>\n",
       "      <td>39074.000000</td>\n",
       "      <td>39074.000000</td>\n",
       "      <td>39074.000000</td>\n",
       "    </tr>\n",
       "    <tr>\n",
       "      <th>mean</th>\n",
       "      <td>29304.500000</td>\n",
       "      <td>38.694631</td>\n",
       "      <td>1.895940e+05</td>\n",
       "      <td>10.074576</td>\n",
       "      <td>1046.173875</td>\n",
       "      <td>87.393433</td>\n",
       "      <td>40.433895</td>\n",
       "      <td>0.239520</td>\n",
       "    </tr>\n",
       "    <tr>\n",
       "      <th>std</th>\n",
       "      <td>11279.836546</td>\n",
       "      <td>13.731323</td>\n",
       "      <td>1.058920e+05</td>\n",
       "      <td>2.572794</td>\n",
       "      <td>7302.852120</td>\n",
       "      <td>403.706583</td>\n",
       "      <td>12.373732</td>\n",
       "      <td>0.426796</td>\n",
       "    </tr>\n",
       "    <tr>\n",
       "      <th>min</th>\n",
       "      <td>9768.000000</td>\n",
       "      <td>17.000000</td>\n",
       "      <td>1.228500e+04</td>\n",
       "      <td>1.000000</td>\n",
       "      <td>0.000000</td>\n",
       "      <td>0.000000</td>\n",
       "      <td>1.000000</td>\n",
       "      <td>0.000000</td>\n",
       "    </tr>\n",
       "    <tr>\n",
       "      <th>25%</th>\n",
       "      <td>19536.250000</td>\n",
       "      <td>28.000000</td>\n",
       "      <td>1.174770e+05</td>\n",
       "      <td>9.000000</td>\n",
       "      <td>0.000000</td>\n",
       "      <td>0.000000</td>\n",
       "      <td>40.000000</td>\n",
       "      <td>0.000000</td>\n",
       "    </tr>\n",
       "    <tr>\n",
       "      <th>50%</th>\n",
       "      <td>29304.500000</td>\n",
       "      <td>37.000000</td>\n",
       "      <td>1.781505e+05</td>\n",
       "      <td>10.000000</td>\n",
       "      <td>0.000000</td>\n",
       "      <td>0.000000</td>\n",
       "      <td>40.000000</td>\n",
       "      <td>0.000000</td>\n",
       "    </tr>\n",
       "    <tr>\n",
       "      <th>75%</th>\n",
       "      <td>39072.750000</td>\n",
       "      <td>48.000000</td>\n",
       "      <td>2.371285e+05</td>\n",
       "      <td>12.000000</td>\n",
       "      <td>0.000000</td>\n",
       "      <td>0.000000</td>\n",
       "      <td>45.000000</td>\n",
       "      <td>0.000000</td>\n",
       "    </tr>\n",
       "    <tr>\n",
       "      <th>max</th>\n",
       "      <td>48841.000000</td>\n",
       "      <td>90.000000</td>\n",
       "      <td>1.490400e+06</td>\n",
       "      <td>16.000000</td>\n",
       "      <td>99999.000000</td>\n",
       "      <td>4356.000000</td>\n",
       "      <td>99.000000</td>\n",
       "      <td>1.000000</td>\n",
       "    </tr>\n",
       "  </tbody>\n",
       "</table>\n",
       "</div>"
      ],
      "text/plain": [
       "                 id           age        fnlwgt  educational-num  \\\n",
       "count  39074.000000  39074.000000  3.907400e+04     39074.000000   \n",
       "mean   29304.500000     38.694631  1.895940e+05        10.074576   \n",
       "std    11279.836546     13.731323  1.058920e+05         2.572794   \n",
       "min     9768.000000     17.000000  1.228500e+04         1.000000   \n",
       "25%    19536.250000     28.000000  1.174770e+05         9.000000   \n",
       "50%    29304.500000     37.000000  1.781505e+05        10.000000   \n",
       "75%    39072.750000     48.000000  2.371285e+05        12.000000   \n",
       "max    48841.000000     90.000000  1.490400e+06        16.000000   \n",
       "\n",
       "       capital-gain  capital-loss  hours-per-week       is_rich  \n",
       "count  39074.000000  39074.000000    39074.000000  39074.000000  \n",
       "mean    1046.173875     87.393433       40.433895      0.239520  \n",
       "std     7302.852120    403.706583       12.373732      0.426796  \n",
       "min        0.000000      0.000000        1.000000      0.000000  \n",
       "25%        0.000000      0.000000       40.000000      0.000000  \n",
       "50%        0.000000      0.000000       40.000000      0.000000  \n",
       "75%        0.000000      0.000000       45.000000      0.000000  \n",
       "max    99999.000000   4356.000000       99.000000      1.000000  "
      ]
     },
     "execution_count": 10,
     "metadata": {},
     "output_type": "execute_result"
    }
   ],
   "source": [
    "df.describe()"
   ]
  },
  {
   "cell_type": "code",
   "execution_count": 11,
   "id": "6b77e853",
   "metadata": {},
   "outputs": [
    {
     "data": {
      "image/png": "[encoded data removed]",
      "text/plain": [
       "<Figure size 360x1080 with 1 Axes>"
      ]
     },
     "metadata": {},
     "output_type": "display_data"
    }
   ],
   "source": [
    "from matplotlib.ticker import FormatStrFormatter\n",
    "import matplotlib.pyplot as plt\n",
    "fig, ax = plt.subplots(figsize=(5, 15))\n",
    "ax.boxplot(train_x.age)\n",
    "ax.set_ylabel('Age')\n",
    "ax.set_title('Age (с аномалиями)')\n",
    "\n",
    "ax.yaxis.set_major_formatter(FormatStrFormatter('%.0f'))"
   ]
  },
  {
   "cell_type": "code",
   "execution_count": 12,
   "id": "886192ba",
   "metadata": {},
   "outputs": [
    {
     "data": {
      "text/plain": [
       "(-2.0, 78.0)"
      ]
     },
     "execution_count": 12,
     "metadata": {},
     "output_type": "execute_result"
    }
   ],
   "source": [
    "def calculate_outliers(data):\n",
    "    q25 = data.quantile(0.25)\n",
    "    q75 = data.quantile(0.75)\n",
    "    iqr = q75 - q25\n",
    "    boundaries = (q25 - 1.5 * iqr, q75 + 1.5 * iqr)\n",
    "    \n",
    "    return boundaries\n",
    "boundaries = calculate_outliers(train_x.age)\n",
    "boundaries"
   ]
  },
  {
   "cell_type": "code",
   "execution_count": 13,
   "id": "1411a041",
   "metadata": {},
   "outputs": [
    {
     "data": {
      "text/plain": [
       "161"
      ]
     },
     "execution_count": 13,
     "metadata": {},
     "output_type": "execute_result"
    }
   ],
   "source": [
    "is_outlier = (train_x.age < boundaries[0]) | (train_x.age > boundaries[1]) \n",
    "is_outlier.sum()"
   ]
  },
  {
   "cell_type": "code",
   "execution_count": 14,
   "id": "1c4f3f45",
   "metadata": {},
   "outputs": [
    {
     "data": {
      "text/plain": [
       "0"
      ]
     },
     "execution_count": 14,
     "metadata": {},
     "output_type": "execute_result"
    }
   ],
   "source": [
    "train_x.loc[is_outlier, 'age'] = int(boundaries[1])\n",
    "is_outlier = (train_x.age < boundaries[0]) | (train_x.age > boundaries[1]) \n",
    "is_outlier.sum()"
   ]
  },
  {
   "cell_type": "code",
   "execution_count": 15,
   "id": "2456f730",
   "metadata": {},
   "outputs": [
    {
     "data": {
      "text/plain": [
       "(-0.5, 75.5)"
      ]
     },
     "execution_count": 15,
     "metadata": {},
     "output_type": "execute_result"
    }
   ],
   "source": [
    "boundaries = calculate_outliers(test_x.age)\n",
    "boundaries"
   ]
  },
  {
   "cell_type": "code",
   "execution_count": 16,
   "id": "295a5de3",
   "metadata": {},
   "outputs": [
    {
     "data": {
      "text/plain": [
       "43"
      ]
     },
     "execution_count": 16,
     "metadata": {},
     "output_type": "execute_result"
    }
   ],
   "source": [
    "is_outlier = (test_x.age < boundaries[0]) | (test_x.age > boundaries[1]) \n",
    "is_outlier.sum()"
   ]
  },
  {
   "cell_type": "code",
   "execution_count": 17,
   "id": "1d2fee9e",
   "metadata": {},
   "outputs": [
    {
     "data": {
      "text/plain": [
       "0"
      ]
     },
     "execution_count": 17,
     "metadata": {},
     "output_type": "execute_result"
    }
   ],
   "source": [
    "test_x.loc[is_outlier, 'age'] = int(boundaries[1])\n",
    "is_outlier = (test_x.age < boundaries[0]) | (test_x.age > boundaries[1]) \n",
    "is_outlier.sum()"
   ]
  },
  {
   "cell_type": "code",
   "execution_count": 18,
   "id": "6af58989",
   "metadata": {},
   "outputs": [
    {
     "data": {
      "image/png": "[encoded data removed]",
      "text/plain": [
       "<Figure size 360x1080 with 1 Axes>"
      ]
     },
     "metadata": {},
     "output_type": "display_data"
    }
   ],
   "source": [
    "fig, ax = plt.subplots(figsize=(5, 15))\n",
    "ax.boxplot(train_x.fnlwgt)\n",
    "ax.set_ylabel('Оценка количества людей')\n",
    "ax.set_title('Оценка количества людей')\n",
    "\n",
    "ax.yaxis.set_major_formatter(FormatStrFormatter('%.0f'))"
   ]
  },
  {
   "cell_type": "code",
   "execution_count": 19,
   "id": "659f07da",
   "metadata": {},
   "outputs": [
    {
     "data": {
      "text/plain": [
       "(-61738.125, 416372.875)"
      ]
     },
     "execution_count": 19,
     "metadata": {},
     "output_type": "execute_result"
    }
   ],
   "source": [
    "boundaries = calculate_outliers(train_x.fnlwgt)\n",
    "boundaries"
   ]
  },
  {
   "cell_type": "code",
   "execution_count": 20,
   "id": "ff66b64e",
   "metadata": {},
   "outputs": [
    {
     "data": {
      "text/plain": [
       "1005"
      ]
     },
     "execution_count": 20,
     "metadata": {},
     "output_type": "execute_result"
    }
   ],
   "source": [
    "is_outlier = (train_x.fnlwgt < boundaries[0]) | (train_x.fnlwgt > boundaries[1])\n",
    "is_outlier.sum()"
   ]
  },
  {
   "cell_type": "code",
   "execution_count": 21,
   "id": "8b4e30e5",
   "metadata": {},
   "outputs": [
    {
     "data": {
      "text/plain": [
       "0"
      ]
     },
     "execution_count": 21,
     "metadata": {},
     "output_type": "execute_result"
    }
   ],
   "source": [
    "train_x.loc[is_outlier, 'fnlwgt'] = int(boundaries[1])\n",
    "is_outlier = (train_x.fnlwgt < boundaries[0]) | (train_x.fnlwgt > boundaries[1]) \n",
    "is_outlier.sum()"
   ]
  },
  {
   "cell_type": "code",
   "execution_count": 22,
   "id": "101ed86f",
   "metadata": {},
   "outputs": [
    {
     "data": {
      "text/plain": [
       "(-64941.125, 418967.875)"
      ]
     },
     "execution_count": 22,
     "metadata": {},
     "output_type": "execute_result"
    }
   ],
   "source": [
    "boundaries = calculate_outliers(test_x.fnlwgt)\n",
    "boundaries"
   ]
  },
  {
   "cell_type": "code",
   "execution_count": 23,
   "id": "5118f6c9",
   "metadata": {},
   "outputs": [
    {
     "data": {
      "text/plain": [
       "159"
      ]
     },
     "execution_count": 23,
     "metadata": {},
     "output_type": "execute_result"
    }
   ],
   "source": [
    "is_outlier = (test_x.fnlwgt < boundaries[0]) | (test_x.fnlwgt > boundaries[1])\n",
    "is_outlier.sum()"
   ]
  },
  {
   "cell_type": "code",
   "execution_count": 24,
   "id": "8750c3c8",
   "metadata": {},
   "outputs": [
    {
     "data": {
      "text/plain": [
       "0"
      ]
     },
     "execution_count": 24,
     "metadata": {},
     "output_type": "execute_result"
    }
   ],
   "source": [
    "test_x.loc[is_outlier, 'fnlwgt'] = int(boundaries[1])\n",
    "is_outlier = (test_x.fnlwgt < boundaries[0]) | (test_x.fnlwgt > boundaries[1]) \n",
    "is_outlier.sum()"
   ]
  },
  {
   "cell_type": "code",
   "execution_count": 25,
   "id": "79e61244",
   "metadata": {},
   "outputs": [
    {
     "data": {
      "text/plain": [
       "(32.5, 52.5)"
      ]
     },
     "execution_count": 25,
     "metadata": {},
     "output_type": "execute_result"
    }
   ],
   "source": [
    "boundaries = calculate_outliers(train_x[\"hours-per-week\"])\n",
    "boundaries"
   ]
  },
  {
   "cell_type": "code",
   "execution_count": 26,
   "id": "8a8fcb18",
   "metadata": {},
   "outputs": [
    {
     "data": {
      "image/png": "[encoded data removed]",
      "text/plain": [
       "<Figure size 360x1080 with 1 Axes>"
      ]
     },
     "metadata": {},
     "output_type": "display_data"
    }
   ],
   "source": [
    "fig, ax = plt.subplots(figsize=(5, 15))\n",
    "ax.boxplot(train_x[\"hours-per-week\"])\n",
    "ax.set_ylabel('Часы работы')\n",
    "ax.set_title('Часы (с аномалиями)')\n",
    "\n",
    "ax.yaxis.set_major_formatter(FormatStrFormatter('%.0f'))"
   ]
  },
  {
   "cell_type": "code",
   "execution_count": 27,
   "id": "5541ba4e",
   "metadata": {},
   "outputs": [
    {
     "data": {
      "text/plain": [
       "9136"
      ]
     },
     "execution_count": 27,
     "metadata": {},
     "output_type": "execute_result"
    }
   ],
   "source": [
    "is_outlier = (train_x[\"hours-per-week\"] < boundaries[0]) | (train_x[\"hours-per-week\"] > boundaries[1])\n",
    "is_outlier.sum()"
   ]
  },
  {
   "cell_type": "code",
   "execution_count": 28,
   "id": "39d59ad6",
   "metadata": {},
   "outputs": [
    {
     "data": {
      "text/plain": [
       "0"
      ]
     },
     "execution_count": 28,
     "metadata": {},
     "output_type": "execute_result"
    }
   ],
   "source": [
    "train_x.loc[is_outlier, 'hours-per-week'] = int(boundaries[1])\n",
    "is_outlier = (train_x[\"hours-per-week\"] < boundaries[0]) | (train_x[\"hours-per-week\"] > boundaries[1]) \n",
    "is_outlier.sum()"
   ]
  },
  {
   "cell_type": "code",
   "execution_count": 29,
   "id": "4c5e8fbb",
   "metadata": {},
   "outputs": [
    {
     "data": {
      "text/plain": [
       "(32.5, 52.5)"
      ]
     },
     "execution_count": 29,
     "metadata": {},
     "output_type": "execute_result"
    }
   ],
   "source": [
    "boundaries = calculate_outliers(test_x[\"hours-per-week\"])\n",
    "boundaries"
   ]
  },
  {
   "cell_type": "code",
   "execution_count": 30,
   "id": "05e861f7",
   "metadata": {},
   "outputs": [
    {
     "data": {
      "text/plain": [
       "1606"
      ]
     },
     "execution_count": 30,
     "metadata": {},
     "output_type": "execute_result"
    }
   ],
   "source": [
    "is_outlier = (test_x[\"hours-per-week\"] < boundaries[0]) | (test_x[\"hours-per-week\"] > boundaries[1])\n",
    "is_outlier.sum()"
   ]
  },
  {
   "cell_type": "code",
   "execution_count": 31,
   "id": "6fc411a8",
   "metadata": {},
   "outputs": [
    {
     "data": {
      "text/plain": [
       "0"
      ]
     },
     "execution_count": 31,
     "metadata": {},
     "output_type": "execute_result"
    }
   ],
   "source": [
    "test_x.loc[is_outlier, 'hours-per-week'] = int(boundaries[1])\n",
    "is_outlier = (test_x[\"hours-per-week\"] < boundaries[0]) | (test_x[\"hours-per-week\"] > boundaries[1]) \n",
    "is_outlier.sum()"
   ]
  },
  {
   "cell_type": "markdown",
   "id": "f67c8eec",
   "metadata": {},
   "source": [
    "## Стандартизация и работа с категориальными переменными"
   ]
  },
  {
   "cell_type": "code",
   "execution_count": 32,
   "id": "2979eebb",
   "metadata": {},
   "outputs": [],
   "source": [
    "num_cols = [\n",
    "    \"age\",\n",
    "    \"fnlwgt\",\n",
    "    \"educational-num\",\n",
    "    \"capital-gain\",\n",
    "    \"capital-loss\",\n",
    "    \"hours-per-week\"\n",
    "]\n",
    "\n",
    "cat_cols = [\n",
    "    \"workclass\",\n",
    "    \"occupation\",\n",
    "    \"relationship\",\n",
    "    \"race\",\n",
    "    \"gender\",\n",
    "    \"native-country\"\n",
    "]"
   ]
  },
  {
   "cell_type": "code",
   "execution_count": 33,
   "id": "994dfa40",
   "metadata": {},
   "outputs": [],
   "source": [
    "from sklearn.preprocessing import StandardScaler\n",
    "\n",
    "scaler = StandardScaler()\n",
    "\n",
    "x_train_mm = scaler.fit_transform(train_x[num_cols])\n",
    "X_train_mm = pd.DataFrame(data = x_train_mm,  \n",
    "                  columns =['age_std','educational-num_std', 'fnlwgt_std',\n",
    "                           \"capital-gain_std\", \"capital-loss_std\",  \"hours-per-week_std\"])\n",
    "x_test_mm = scaler.transform(test_x[num_cols])\n",
    "X_test_mm = pd.DataFrame(data = x_test_mm,  \n",
    "                  columns =['age_std','educational-num_std', 'fnlwgt_std',\n",
    "                           \"capital-gain_std\", \"capital-loss_std\",  \"hours-per-week_std\"])\n",
    "train_x = pd.concat([X_train_mm, train_x.reset_index(drop=True)], axis=1)\n",
    "test_x = pd.concat([X_test_mm, test_x.reset_index(drop=True)], axis=1)\n",
    "columns_for_drop = [ \"educational-num\",\"capital-gain\", \"capital-loss\",\n",
    "                    \"hours-per-week\", 'fnlwgt', \"age\", \"marital-status\"]\n",
    "train_x = train_x.drop(columns=columns_for_drop) \n",
    "test_x = test_x.drop(columns=columns_for_drop) "
   ]
  },
  {
   "cell_type": "code",
   "execution_count": 34,
   "id": "46315a67",
   "metadata": {},
   "outputs": [
    {
     "name": "stdout",
     "output_type": "stream",
     "text": [
      "(33212, 12) (5862, 12) (33212,) (5862,)\n"
     ]
    }
   ],
   "source": [
    "print(train_x.shape, test_x.shape, train_y.shape, test_y.shape)"
   ]
  },
  {
   "cell_type": "code",
   "execution_count": 35,
   "id": "b0c0f9a8",
   "metadata": {},
   "outputs": [],
   "source": [
    "X_b = pd.concat([train_x, test_x], axis = 0, ignore_index = True) \n",
    "Y_b = pd.concat([train_y, test_y], axis = 0, ignore_index = True) "
   ]
  },
  {
   "cell_type": "code",
   "execution_count": 36,
   "id": "27d63e83",
   "metadata": {},
   "outputs": [
    {
     "name": "stdout",
     "output_type": "stream",
     "text": [
      "(39074, 12) (39074,)\n"
     ]
    }
   ],
   "source": [
    "print(X_b.shape, Y_b.shape)"
   ]
  },
  {
   "cell_type": "code",
   "execution_count": 37,
   "id": "8e767375",
   "metadata": {},
   "outputs": [
    {
     "data": {
      "text/html": [
       "<div>\n",
       "<style scoped>\n",
       "    .dataframe tbody tr th:only-of-type {\n",
       "        vertical-align: middle;\n",
       "    }\n",
       "\n",
       "    .dataframe tbody tr th {\n",
       "        vertical-align: top;\n",
       "    }\n",
       "\n",
       "    .dataframe thead th {\n",
       "        text-align: right;\n",
       "    }\n",
       "</style>\n",
       "<table border=\"1\" class=\"dataframe\">\n",
       "  <thead>\n",
       "    <tr style=\"text-align: right;\">\n",
       "      <th></th>\n",
       "      <th>age_std</th>\n",
       "      <th>educational-num_std</th>\n",
       "      <th>fnlwgt_std</th>\n",
       "      <th>capital-gain_std</th>\n",
       "      <th>capital-loss_std</th>\n",
       "      <th>hours-per-week_std</th>\n",
       "      <th>workclass</th>\n",
       "      <th>occupation</th>\n",
       "      <th>relationship</th>\n",
       "      <th>race</th>\n",
       "      <th>gender</th>\n",
       "      <th>native-country</th>\n",
       "    </tr>\n",
       "  </thead>\n",
       "  <tbody>\n",
       "    <tr>\n",
       "      <th>0</th>\n",
       "      <td>2.072196</td>\n",
       "      <td>0.744113</td>\n",
       "      <td>-2.370531</td>\n",
       "      <td>1.298042</td>\n",
       "      <td>-0.216591</td>\n",
       "      <td>-0.765003</td>\n",
       "      <td>Private</td>\n",
       "      <td>Transport-moving</td>\n",
       "      <td>Husband</td>\n",
       "      <td>Black</td>\n",
       "      <td>Male</td>\n",
       "      <td>United-States</td>\n",
       "    </tr>\n",
       "    <tr>\n",
       "      <th>1</th>\n",
       "      <td>0.461170</td>\n",
       "      <td>0.584876</td>\n",
       "      <td>1.138756</td>\n",
       "      <td>-0.143906</td>\n",
       "      <td>-0.216591</td>\n",
       "      <td>1.310360</td>\n",
       "      <td>Private</td>\n",
       "      <td>Exec-managerial</td>\n",
       "      <td>Husband</td>\n",
       "      <td>White</td>\n",
       "      <td>Male</td>\n",
       "      <td>United-States</td>\n",
       "    </tr>\n",
       "    <tr>\n",
       "      <th>2</th>\n",
       "      <td>0.461170</td>\n",
       "      <td>-0.063066</td>\n",
       "      <td>-1.200769</td>\n",
       "      <td>-0.143906</td>\n",
       "      <td>-0.216591</td>\n",
       "      <td>-1.629738</td>\n",
       "      <td>Self-emp-not-inc</td>\n",
       "      <td>Craft-repair</td>\n",
       "      <td>Husband</td>\n",
       "      <td>White</td>\n",
       "      <td>Male</td>\n",
       "      <td>United-States</td>\n",
       "    </tr>\n",
       "    <tr>\n",
       "      <th>3</th>\n",
       "      <td>0.461170</td>\n",
       "      <td>0.032607</td>\n",
       "      <td>1.528677</td>\n",
       "      <td>-0.143906</td>\n",
       "      <td>-0.216591</td>\n",
       "      <td>-0.765003</td>\n",
       "      <td>Private</td>\n",
       "      <td>Sales</td>\n",
       "      <td>Husband</td>\n",
       "      <td>White</td>\n",
       "      <td>Male</td>\n",
       "      <td>United-States</td>\n",
       "    </tr>\n",
       "    <tr>\n",
       "      <th>4</th>\n",
       "      <td>-0.710485</td>\n",
       "      <td>0.616490</td>\n",
       "      <td>-1.200769</td>\n",
       "      <td>-0.143906</td>\n",
       "      <td>-0.216591</td>\n",
       "      <td>1.310360</td>\n",
       "      <td>Private</td>\n",
       "      <td>Other-service</td>\n",
       "      <td>Not-in-family</td>\n",
       "      <td>White</td>\n",
       "      <td>Female</td>\n",
       "      <td>United-States</td>\n",
       "    </tr>\n",
       "    <tr>\n",
       "      <th>...</th>\n",
       "      <td>...</td>\n",
       "      <td>...</td>\n",
       "      <td>...</td>\n",
       "      <td>...</td>\n",
       "      <td>...</td>\n",
       "      <td>...</td>\n",
       "      <td>...</td>\n",
       "      <td>...</td>\n",
       "      <td>...</td>\n",
       "      <td>...</td>\n",
       "      <td>...</td>\n",
       "      <td>...</td>\n",
       "    </tr>\n",
       "    <tr>\n",
       "      <th>39069</th>\n",
       "      <td>-1.296312</td>\n",
       "      <td>-0.879285</td>\n",
       "      <td>-0.031006</td>\n",
       "      <td>-0.143906</td>\n",
       "      <td>4.715532</td>\n",
       "      <td>-0.765003</td>\n",
       "      <td>Local-gov</td>\n",
       "      <td>Other-service</td>\n",
       "      <td>Not-in-family</td>\n",
       "      <td>White</td>\n",
       "      <td>Female</td>\n",
       "      <td>United-States</td>\n",
       "    </tr>\n",
       "    <tr>\n",
       "      <th>39070</th>\n",
       "      <td>-0.637256</td>\n",
       "      <td>1.736200</td>\n",
       "      <td>1.528677</td>\n",
       "      <td>13.503018</td>\n",
       "      <td>-0.216591</td>\n",
       "      <td>-0.765003</td>\n",
       "      <td>State-gov</td>\n",
       "      <td>Craft-repair</td>\n",
       "      <td>Not-in-family</td>\n",
       "      <td>White</td>\n",
       "      <td>Male</td>\n",
       "      <td>United-States</td>\n",
       "    </tr>\n",
       "    <tr>\n",
       "      <th>39071</th>\n",
       "      <td>1.779282</td>\n",
       "      <td>-1.029313</td>\n",
       "      <td>-0.031006</td>\n",
       "      <td>-0.143906</td>\n",
       "      <td>-0.216591</td>\n",
       "      <td>-0.765003</td>\n",
       "      <td>Private</td>\n",
       "      <td>Prof-specialty</td>\n",
       "      <td>Husband</td>\n",
       "      <td>White</td>\n",
       "      <td>Male</td>\n",
       "      <td>?</td>\n",
       "    </tr>\n",
       "    <tr>\n",
       "      <th>39072</th>\n",
       "      <td>-1.589226</td>\n",
       "      <td>-0.018506</td>\n",
       "      <td>-1.980611</td>\n",
       "      <td>-0.143906</td>\n",
       "      <td>4.020450</td>\n",
       "      <td>1.310360</td>\n",
       "      <td>Private</td>\n",
       "      <td>Handlers-cleaners</td>\n",
       "      <td>Own-child</td>\n",
       "      <td>White</td>\n",
       "      <td>Male</td>\n",
       "      <td>United-States</td>\n",
       "    </tr>\n",
       "    <tr>\n",
       "      <th>39073</th>\n",
       "      <td>-1.003398</td>\n",
       "      <td>-0.162224</td>\n",
       "      <td>-0.420927</td>\n",
       "      <td>-0.143906</td>\n",
       "      <td>-0.216591</td>\n",
       "      <td>-0.765003</td>\n",
       "      <td>Private</td>\n",
       "      <td>Handlers-cleaners</td>\n",
       "      <td>Own-child</td>\n",
       "      <td>White</td>\n",
       "      <td>Female</td>\n",
       "      <td>United-States</td>\n",
       "    </tr>\n",
       "  </tbody>\n",
       "</table>\n",
       "<p>39074 rows × 12 columns</p>\n",
       "</div>"
      ],
      "text/plain": [
       "        age_std  educational-num_std  fnlwgt_std  capital-gain_std  \\\n",
       "0      2.072196             0.744113   -2.370531          1.298042   \n",
       "1      0.461170             0.584876    1.138756         -0.143906   \n",
       "2      0.461170            -0.063066   -1.200769         -0.143906   \n",
       "3      0.461170             0.032607    1.528677         -0.143906   \n",
       "4     -0.710485             0.616490   -1.200769         -0.143906   \n",
       "...         ...                  ...         ...               ...   \n",
       "39069 -1.296312            -0.879285   -0.031006         -0.143906   \n",
       "39070 -0.637256             1.736200    1.528677         13.503018   \n",
       "39071  1.779282            -1.029313   -0.031006         -0.143906   \n",
       "39072 -1.589226            -0.018506   -1.980611         -0.143906   \n",
       "39073 -1.003398            -0.162224   -0.420927         -0.143906   \n",
       "\n",
       "       capital-loss_std  hours-per-week_std         workclass  \\\n",
       "0             -0.216591           -0.765003           Private   \n",
       "1             -0.216591            1.310360           Private   \n",
       "2             -0.216591           -1.629738  Self-emp-not-inc   \n",
       "3             -0.216591           -0.765003           Private   \n",
       "4             -0.216591            1.310360           Private   \n",
       "...                 ...                 ...               ...   \n",
       "39069          4.715532           -0.765003         Local-gov   \n",
       "39070         -0.216591           -0.765003         State-gov   \n",
       "39071         -0.216591           -0.765003           Private   \n",
       "39072          4.020450            1.310360           Private   \n",
       "39073         -0.216591           -0.765003           Private   \n",
       "\n",
       "              occupation   relationship   race  gender native-country  \n",
       "0       Transport-moving        Husband  Black    Male  United-States  \n",
       "1        Exec-managerial        Husband  White    Male  United-States  \n",
       "2           Craft-repair        Husband  White    Male  United-States  \n",
       "3                  Sales        Husband  White    Male  United-States  \n",
       "4          Other-service  Not-in-family  White  Female  United-States  \n",
       "...                  ...            ...    ...     ...            ...  \n",
       "39069      Other-service  Not-in-family  White  Female  United-States  \n",
       "39070       Craft-repair  Not-in-family  White    Male  United-States  \n",
       "39071     Prof-specialty        Husband  White    Male              ?  \n",
       "39072  Handlers-cleaners      Own-child  White    Male  United-States  \n",
       "39073  Handlers-cleaners      Own-child  White  Female  United-States  \n",
       "\n",
       "[39074 rows x 12 columns]"
      ]
     },
     "execution_count": 37,
     "metadata": {},
     "output_type": "execute_result"
    }
   ],
   "source": [
    "X_b"
   ]
  },
  {
   "cell_type": "code",
   "execution_count": 38,
   "id": "922e7374",
   "metadata": {},
   "outputs": [
    {
     "data": {
      "text/plain": [
       "0        0\n",
       "1        1\n",
       "2        0\n",
       "3        1\n",
       "4        0\n",
       "        ..\n",
       "39069    0\n",
       "39070    1\n",
       "39071    0\n",
       "39072    0\n",
       "39073    0\n",
       "Name: is_rich, Length: 39074, dtype: int64"
      ]
     },
     "execution_count": 38,
     "metadata": {},
     "output_type": "execute_result"
    }
   ],
   "source": [
    "Y_b"
   ]
  },
  {
   "cell_type": "code",
   "execution_count": 39,
   "id": "b66a594c",
   "metadata": {},
   "outputs": [
    {
     "data": {
      "text/plain": [
       "Index(['age_std', 'educational-num_std', 'fnlwgt_std', 'capital-gain_std',\n",
       "       'capital-loss_std', 'hours-per-week_std', 'workclass', 'occupation',\n",
       "       'relationship', 'race', 'gender', 'native-country'],\n",
       "      dtype='object')"
      ]
     },
     "execution_count": 39,
     "metadata": {},
     "output_type": "execute_result"
    }
   ],
   "source": [
    "train_x.columns"
   ]
  },
  {
   "cell_type": "code",
   "execution_count": 40,
   "id": "c65c858b",
   "metadata": {},
   "outputs": [
    {
     "data": {
      "text/plain": [
       "Index(['age_std', 'educational-num_std', 'fnlwgt_std', 'capital-gain_std',\n",
       "       'capital-loss_std', 'hours-per-week_std', 'workclass', 'occupation',\n",
       "       'relationship', 'race', 'gender', 'native-country'],\n",
       "      dtype='object')"
      ]
     },
     "execution_count": 40,
     "metadata": {},
     "output_type": "execute_result"
    }
   ],
   "source": [
    "X_b.columns"
   ]
  },
  {
   "cell_type": "code",
   "execution_count": 41,
   "id": "113289cb",
   "metadata": {},
   "outputs": [
    {
     "data": {
      "text/plain": [
       "Index(['age_std', 'educational-num_std', 'fnlwgt_std', 'capital-gain_std',\n",
       "       'capital-loss_std', 'hours-per-week_std', 'workclass', 'occupation',\n",
       "       'relationship', 'race', 'gender', 'native-country'],\n",
       "      dtype='object')"
      ]
     },
     "execution_count": 41,
     "metadata": {},
     "output_type": "execute_result"
    }
   ],
   "source": [
    "test_x.columns"
   ]
  },
  {
   "cell_type": "markdown",
   "id": "2810959c",
   "metadata": {},
   "source": [
    "## Машинное обучение"
   ]
  },
  {
   "cell_type": "code",
   "execution_count": 42,
   "id": "e9e48b73",
   "metadata": {},
   "outputs": [],
   "source": [
    "f1 = make_scorer(f1_score, average='micro')"
   ]
  },
  {
   "cell_type": "code",
   "execution_count": null,
   "id": "5405d876",
   "metadata": {},
   "outputs": [],
   "source": [
    "N = []\n",
    "f1 = []\n",
    "for n in np.arange(10, 150, 5):\n",
    "    rf = cb.CatBoostClassifier(logging_level='Silent', n_estimators = n)    \n",
    "    rf.fit(train_x, train_y, cat_features=cat_cols)\n",
    "    pred = rf.predict(test_x)\n",
    "    N.append(n)\n",
    "    f1.append(f1_score(test_y, pred, average='micro'))\n",
    "f_imp_list3 = list(zip(N, f1))\n",
    "f_imp_list3.sort(key = lambda x: x[1], reverse=True)\n",
    "f_imp_list3"
   ]
  },
  {
   "cell_type": "code",
   "execution_count": 43,
   "id": "4ead6945",
   "metadata": {},
   "outputs": [
    {
     "name": "stdout",
     "output_type": "stream",
     "text": [
      "0.880416240191061\n"
     ]
    }
   ],
   "source": [
    "rf1 = cb.CatBoostClassifier(logging_level='Silent', n_estimators = 95)    \n",
    "rf1.fit(X_b, Y_b, cat_features=cat_cols)\n",
    "pred = rf1.predict(test_x)\n",
    "print(f1_score(test_y, pred, average='micro'))"
   ]
  },
  {
   "cell_type": "code",
   "execution_count": 43,
   "id": "5e050eb8",
   "metadata": {},
   "outputs": [
    {
     "name": "stdout",
     "output_type": "stream",
     "text": [
      "{'subsample': 0.5, 'random_strength': 1, 'min_data_in_leaf': 70, 'learning_rate': 0.3, 'l2_leaf_reg': 1, 'depth': 7}\n",
      "0.8701675025160612\n"
     ]
    }
   ],
   "source": [
    "parameters = {'depth': [1, 4, 7, 10, 15, 20],\n",
    "              'learning_rate': [0.03, 0.1, 0.15, 0.3, 0.9],\n",
    "              'l2_leaf_reg': [1, 3, 5, 7, 9],\n",
    "              \"subsample\": [0.3, 0.5, 0.7, 1],\n",
    "              \"random_strength\": [1, 2, 5, 10, 20, 50, 100],\n",
    "              \"min_data_in_leaf\": [5, 10, 20, 30, 40, 50, 70, 100, 150]}\n",
    "\n",
    "cb = cb.CatBoostClassifier(logging_level='Silent', n_estimators = 95)\n",
    "cv = RandomizedSearchCV(estimator = cb, param_distributions=parameters, scoring = f1, n_iter = 70, cv=3, n_jobs = -1)\n",
    "cv.fit(train_x,train_y, cat_features=cat_cols)    \n",
    "print(cv.best_params_)\n",
    "print(cv.best_score_)"
   ]
  },
  {
   "cell_type": "code",
   "execution_count": 44,
   "id": "fda89ca8",
   "metadata": {},
   "outputs": [
    {
     "name": "stdout",
     "output_type": "stream",
     "text": [
      "0.8805868304332992\n"
     ]
    }
   ],
   "source": [
    "rf2 = cb.CatBoostClassifier(logging_level='Silent', n_estimators = 95,\n",
    "                           depth=7, subsample=0.5, l2_leaf_reg=1,\n",
    "                            random_strength = 1,\n",
    "                            learning_rate=0.3, min_data_in_leaf = 70)    \n",
    "rf2.fit(X_b, Y_b, cat_features=cat_cols)\n",
    "pred = rf2.predict(test_x)\n",
    "print(f1_score(test_y, pred, average='micro'))"
   ]
  },
  {
   "cell_type": "code",
   "execution_count": null,
   "id": "80181707",
   "metadata": {},
   "outputs": [],
   "source": []
  }
 ],
 "metadata": {
  "kernelspec": {
   "display_name": "Python 3 (ipykernel)",
   "language": "python",
   "name": "python3"
  },
  "language_info": {
   "codemirror_mode": {
    "name": "ipython",
    "version": 3
   },
   "file_extension": ".py",
   "mimetype": "text/x-python",
   "name": "python",
   "nbconvert_exporter": "python",
   "pygments_lexer": "ipython3",
   "version": "3.9.12"
  }
 },
 "nbformat": 4,
 "nbformat_minor": 5
}
