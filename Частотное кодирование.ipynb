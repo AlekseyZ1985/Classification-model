{
 "cells": [
  {
   "cell_type": "code",
   "execution_count": 1,
   "id": "4bca79b6",
   "metadata": {},
   "outputs": [],
   "source": [
    "from sklearn.ensemble import RandomForestClassifier\n",
    "from sklearn.linear_model import LogisticRegression, LinearRegression\n",
    "from sklearn.metrics import accuracy_score, confusion_matrix, mean_absolute_error, roc_curve, roc_auc_score\n",
    "from sklearn.model_selection import train_test_split, cross_val_score, cross_validate\n",
    "from sklearn.neural_network import MLPClassifier\n",
    "import pandas as pd\n",
    "from sklearn.preprocessing import OneHotEncoder\n",
    "from sklearn.preprocessing import StandardScaler\n",
    "from sklearn.svm import SVC\n",
    "from sklearn.model_selection import GridSearchCV, RandomizedSearchCV\n",
    "from sklearn.tree import DecisionTreeClassifier\n",
    "from sklearn.neighbors import KNeighborsClassifier\n",
    "from sklearn.metrics import roc_curve, precision_recall_curve, recall_score\n",
    "import matplotlib.pyplot as plt\n",
    "plt.style.use(\"ggplot\")\n",
    "from sklearn.metrics import roc_curve, precision_recall_curve, auc, make_scorer, recall_score, accuracy_score, precision_score, confusion_matrix\n",
    "import numpy as np\n",
    "import pandas as pd\n",
    "import matplotlib.pyplot as plt\n",
    "import seaborn as sns\n",
    "import catboost as cb\n",
    "from imblearn.under_sampling import NearMiss\n",
    "from imblearn.over_sampling import SMOTE\n",
    "import xgboost\n",
    "from imblearn.ensemble import BalancedBaggingClassifier \n",
    "from imblearn.ensemble import BalancedRandomForestClassifier \n",
    "from sklearn.metrics import f1_score\n",
    "import warnings\n",
    "warnings.filterwarnings('ignore')"
   ]
  },
  {
   "cell_type": "code",
   "execution_count": 2,
   "id": "1f1f1c2f",
   "metadata": {},
   "outputs": [
    {
     "data": {
      "text/plain": [
       "(39074, 16)"
      ]
     },
     "execution_count": 2,
     "metadata": {},
     "output_type": "execute_result"
    }
   ],
   "source": [
    "df = pd.read_csv('train.csv')\n",
    "df.shape"
   ]
  },
  {
   "cell_type": "code",
   "execution_count": 3,
   "id": "4d193b95",
   "metadata": {},
   "outputs": [
    {
     "data": {
      "text/html": [
       "<div>\n",
       "<style scoped>\n",
       "    .dataframe tbody tr th:only-of-type {\n",
       "        vertical-align: middle;\n",
       "    }\n",
       "\n",
       "    .dataframe tbody tr th {\n",
       "        vertical-align: top;\n",
       "    }\n",
       "\n",
       "    .dataframe thead th {\n",
       "        text-align: right;\n",
       "    }\n",
       "</style>\n",
       "<table border=\"1\" class=\"dataframe\">\n",
       "  <thead>\n",
       "    <tr style=\"text-align: right;\">\n",
       "      <th></th>\n",
       "      <th>id</th>\n",
       "      <th>age</th>\n",
       "      <th>fnlwgt</th>\n",
       "      <th>educational-num</th>\n",
       "      <th>capital-gain</th>\n",
       "      <th>capital-loss</th>\n",
       "      <th>hours-per-week</th>\n",
       "      <th>is_rich</th>\n",
       "    </tr>\n",
       "  </thead>\n",
       "  <tbody>\n",
       "    <tr>\n",
       "      <th>count</th>\n",
       "      <td>39074.000000</td>\n",
       "      <td>39074.000000</td>\n",
       "      <td>3.907400e+04</td>\n",
       "      <td>39074.000000</td>\n",
       "      <td>39074.000000</td>\n",
       "      <td>39074.000000</td>\n",
       "      <td>39074.000000</td>\n",
       "      <td>39074.000000</td>\n",
       "    </tr>\n",
       "    <tr>\n",
       "      <th>mean</th>\n",
       "      <td>29304.500000</td>\n",
       "      <td>38.694631</td>\n",
       "      <td>1.895940e+05</td>\n",
       "      <td>10.074576</td>\n",
       "      <td>1046.173875</td>\n",
       "      <td>87.393433</td>\n",
       "      <td>40.433895</td>\n",
       "      <td>0.239520</td>\n",
       "    </tr>\n",
       "    <tr>\n",
       "      <th>std</th>\n",
       "      <td>11279.836546</td>\n",
       "      <td>13.731323</td>\n",
       "      <td>1.058920e+05</td>\n",
       "      <td>2.572794</td>\n",
       "      <td>7302.852120</td>\n",
       "      <td>403.706583</td>\n",
       "      <td>12.373732</td>\n",
       "      <td>0.426796</td>\n",
       "    </tr>\n",
       "    <tr>\n",
       "      <th>min</th>\n",
       "      <td>9768.000000</td>\n",
       "      <td>17.000000</td>\n",
       "      <td>1.228500e+04</td>\n",
       "      <td>1.000000</td>\n",
       "      <td>0.000000</td>\n",
       "      <td>0.000000</td>\n",
       "      <td>1.000000</td>\n",
       "      <td>0.000000</td>\n",
       "    </tr>\n",
       "    <tr>\n",
       "      <th>25%</th>\n",
       "      <td>19536.250000</td>\n",
       "      <td>28.000000</td>\n",
       "      <td>1.174770e+05</td>\n",
       "      <td>9.000000</td>\n",
       "      <td>0.000000</td>\n",
       "      <td>0.000000</td>\n",
       "      <td>40.000000</td>\n",
       "      <td>0.000000</td>\n",
       "    </tr>\n",
       "    <tr>\n",
       "      <th>50%</th>\n",
       "      <td>29304.500000</td>\n",
       "      <td>37.000000</td>\n",
       "      <td>1.781505e+05</td>\n",
       "      <td>10.000000</td>\n",
       "      <td>0.000000</td>\n",
       "      <td>0.000000</td>\n",
       "      <td>40.000000</td>\n",
       "      <td>0.000000</td>\n",
       "    </tr>\n",
       "    <tr>\n",
       "      <th>75%</th>\n",
       "      <td>39072.750000</td>\n",
       "      <td>48.000000</td>\n",
       "      <td>2.371285e+05</td>\n",
       "      <td>12.000000</td>\n",
       "      <td>0.000000</td>\n",
       "      <td>0.000000</td>\n",
       "      <td>45.000000</td>\n",
       "      <td>0.000000</td>\n",
       "    </tr>\n",
       "    <tr>\n",
       "      <th>max</th>\n",
       "      <td>48841.000000</td>\n",
       "      <td>90.000000</td>\n",
       "      <td>1.490400e+06</td>\n",
       "      <td>16.000000</td>\n",
       "      <td>99999.000000</td>\n",
       "      <td>4356.000000</td>\n",
       "      <td>99.000000</td>\n",
       "      <td>1.000000</td>\n",
       "    </tr>\n",
       "  </tbody>\n",
       "</table>\n",
       "</div>"
      ],
      "text/plain": [
       "                 id           age        fnlwgt  educational-num  \\\n",
       "count  39074.000000  39074.000000  3.907400e+04     39074.000000   \n",
       "mean   29304.500000     38.694631  1.895940e+05        10.074576   \n",
       "std    11279.836546     13.731323  1.058920e+05         2.572794   \n",
       "min     9768.000000     17.000000  1.228500e+04         1.000000   \n",
       "25%    19536.250000     28.000000  1.174770e+05         9.000000   \n",
       "50%    29304.500000     37.000000  1.781505e+05        10.000000   \n",
       "75%    39072.750000     48.000000  2.371285e+05        12.000000   \n",
       "max    48841.000000     90.000000  1.490400e+06        16.000000   \n",
       "\n",
       "       capital-gain  capital-loss  hours-per-week       is_rich  \n",
       "count  39074.000000  39074.000000    39074.000000  39074.000000  \n",
       "mean    1046.173875     87.393433       40.433895      0.239520  \n",
       "std     7302.852120    403.706583       12.373732      0.426796  \n",
       "min        0.000000      0.000000        1.000000      0.000000  \n",
       "25%        0.000000      0.000000       40.000000      0.000000  \n",
       "50%        0.000000      0.000000       40.000000      0.000000  \n",
       "75%        0.000000      0.000000       45.000000      0.000000  \n",
       "max    99999.000000   4356.000000       99.000000      1.000000  "
      ]
     },
     "execution_count": 3,
     "metadata": {},
     "output_type": "execute_result"
    }
   ],
   "source": [
    "df.describe()"
   ]
  },
  {
   "cell_type": "code",
   "execution_count": 4,
   "id": "6c5c7177",
   "metadata": {},
   "outputs": [
    {
     "name": "stdout",
     "output_type": "stream",
     "text": [
      "<class 'pandas.core.frame.DataFrame'>\n",
      "RangeIndex: 39074 entries, 0 to 39073\n",
      "Data columns (total 16 columns):\n",
      " #   Column           Non-Null Count  Dtype \n",
      "---  ------           --------------  ----- \n",
      " 0   id               39074 non-null  int64 \n",
      " 1   age              39074 non-null  int64 \n",
      " 2   workclass        39074 non-null  object\n",
      " 3   fnlwgt           39074 non-null  int64 \n",
      " 4   education        39074 non-null  object\n",
      " 5   educational-num  39074 non-null  int64 \n",
      " 6   marital-status   39074 non-null  object\n",
      " 7   occupation       39074 non-null  object\n",
      " 8   relationship     39074 non-null  object\n",
      " 9   race             39074 non-null  object\n",
      " 10  gender           39074 non-null  object\n",
      " 11  capital-gain     39074 non-null  int64 \n",
      " 12  capital-loss     39074 non-null  int64 \n",
      " 13  hours-per-week   39074 non-null  int64 \n",
      " 14  native-country   39074 non-null  object\n",
      " 15  is_rich          39074 non-null  int64 \n",
      "dtypes: int64(8), object(8)\n",
      "memory usage: 4.8+ MB\n"
     ]
    }
   ],
   "source": [
    "df.info()"
   ]
  },
  {
   "cell_type": "markdown",
   "id": "40eea9f7",
   "metadata": {},
   "source": [
    "## Пропуски отсутствуют"
   ]
  },
  {
   "cell_type": "code",
   "execution_count": 5,
   "id": "f13e8d65",
   "metadata": {},
   "outputs": [
    {
     "data": {
      "text/plain": [
       "id                 0\n",
       "age                0\n",
       "workclass          0\n",
       "fnlwgt             0\n",
       "education          0\n",
       "educational-num    0\n",
       "marital-status     0\n",
       "occupation         0\n",
       "relationship       0\n",
       "race               0\n",
       "gender             0\n",
       "capital-gain       0\n",
       "capital-loss       0\n",
       "hours-per-week     0\n",
       "native-country     0\n",
       "is_rich            0\n",
       "dtype: int64"
      ]
     },
     "execution_count": 5,
     "metadata": {},
     "output_type": "execute_result"
    }
   ],
   "source": [
    "df.isna().sum().sort_values(ascending=False)"
   ]
  },
  {
   "cell_type": "markdown",
   "id": "9cc35f1e",
   "metadata": {},
   "source": [
    "## Разделение выборки на трецн и тест"
   ]
  },
  {
   "cell_type": "code",
   "execution_count": 6,
   "id": "c9b27ee4",
   "metadata": {},
   "outputs": [],
   "source": [
    "X = df.drop([\"is_rich\", \"id\", \"education\", \"marital-status\"], axis=1)\n",
    "y = df['is_rich']"
   ]
  },
  {
   "cell_type": "code",
   "execution_count": 7,
   "id": "8b6c886e",
   "metadata": {},
   "outputs": [],
   "source": [
    "from sklearn.model_selection import train_test_split\n",
    "train_x, test_x, train_y, test_y = train_test_split(X, y, stratify=y, test_size=0.15, random_state=42)"
   ]
  },
  {
   "cell_type": "markdown",
   "id": "73944dde",
   "metadata": {},
   "source": [
    "## Работа с выбросами¶"
   ]
  },
  {
   "cell_type": "code",
   "execution_count": 8,
   "id": "2126c7f1",
   "metadata": {},
   "outputs": [
    {
     "data": {
      "text/plain": [
       "(-2.0, 78.0)"
      ]
     },
     "execution_count": 8,
     "metadata": {},
     "output_type": "execute_result"
    }
   ],
   "source": [
    "def calculate_outliers(data):\n",
    "    q25 = data.quantile(0.25)\n",
    "    q75 = data.quantile(0.75)\n",
    "    iqr = q75 - q25\n",
    "    boundaries = (q25 - 1.5 * iqr, q75 + 1.5 * iqr)\n",
    "    \n",
    "    return boundaries\n",
    "boundaries = calculate_outliers(train_x.age)\n",
    "boundaries"
   ]
  },
  {
   "cell_type": "code",
   "execution_count": 9,
   "id": "26ffdf0a",
   "metadata": {},
   "outputs": [
    {
     "data": {
      "text/plain": [
       "161"
      ]
     },
     "execution_count": 9,
     "metadata": {},
     "output_type": "execute_result"
    }
   ],
   "source": [
    "is_outlier = (train_x.age < boundaries[0]) | (train_x.age > boundaries[1]) \n",
    "is_outlier.sum()"
   ]
  },
  {
   "cell_type": "code",
   "execution_count": 10,
   "id": "67ab2445",
   "metadata": {},
   "outputs": [
    {
     "data": {
      "text/plain": [
       "0"
      ]
     },
     "execution_count": 10,
     "metadata": {},
     "output_type": "execute_result"
    }
   ],
   "source": [
    "train_x.loc[is_outlier, 'age'] = int(boundaries[1])\n",
    "is_outlier = (train_x.age < boundaries[0]) | (train_x.age > boundaries[1]) \n",
    "is_outlier.sum()"
   ]
  },
  {
   "cell_type": "code",
   "execution_count": 11,
   "id": "ba54acf4",
   "metadata": {},
   "outputs": [
    {
     "data": {
      "text/plain": [
       "(-0.5, 75.5)"
      ]
     },
     "execution_count": 11,
     "metadata": {},
     "output_type": "execute_result"
    }
   ],
   "source": [
    "boundaries = calculate_outliers(test_x.age)\n",
    "boundaries"
   ]
  },
  {
   "cell_type": "code",
   "execution_count": 12,
   "id": "e85d4b98",
   "metadata": {},
   "outputs": [
    {
     "data": {
      "text/plain": [
       "43"
      ]
     },
     "execution_count": 12,
     "metadata": {},
     "output_type": "execute_result"
    }
   ],
   "source": [
    "is_outlier = (test_x.age < boundaries[0]) | (test_x.age > boundaries[1]) \n",
    "is_outlier.sum()"
   ]
  },
  {
   "cell_type": "code",
   "execution_count": 13,
   "id": "33eac732",
   "metadata": {},
   "outputs": [
    {
     "data": {
      "text/plain": [
       "0"
      ]
     },
     "execution_count": 13,
     "metadata": {},
     "output_type": "execute_result"
    }
   ],
   "source": [
    "test_x.loc[is_outlier, 'age'] = int(boundaries[1])\n",
    "is_outlier = (test_x.age < boundaries[0]) | (test_x.age > boundaries[1]) \n",
    "is_outlier.sum()"
   ]
  },
  {
   "cell_type": "code",
   "execution_count": 14,
   "id": "20578718",
   "metadata": {},
   "outputs": [
    {
     "data": {
      "text/plain": [
       "(-61738.125, 416372.875)"
      ]
     },
     "execution_count": 14,
     "metadata": {},
     "output_type": "execute_result"
    }
   ],
   "source": [
    "boundaries = calculate_outliers(train_x.fnlwgt)\n",
    "boundaries"
   ]
  },
  {
   "cell_type": "code",
   "execution_count": 15,
   "id": "01067056",
   "metadata": {},
   "outputs": [
    {
     "data": {
      "text/plain": [
       "1005"
      ]
     },
     "execution_count": 15,
     "metadata": {},
     "output_type": "execute_result"
    }
   ],
   "source": [
    "is_outlier = (train_x.fnlwgt < boundaries[0]) | (train_x.fnlwgt > boundaries[1])\n",
    "is_outlier.sum()"
   ]
  },
  {
   "cell_type": "code",
   "execution_count": 16,
   "id": "f1aee4ab",
   "metadata": {},
   "outputs": [
    {
     "data": {
      "text/plain": [
       "0"
      ]
     },
     "execution_count": 16,
     "metadata": {},
     "output_type": "execute_result"
    }
   ],
   "source": [
    "train_x.loc[is_outlier, 'fnlwgt'] = int(boundaries[1])\n",
    "is_outlier = (train_x.fnlwgt < boundaries[0]) | (train_x.fnlwgt > boundaries[1]) \n",
    "is_outlier.sum()"
   ]
  },
  {
   "cell_type": "code",
   "execution_count": 17,
   "id": "7709a6f7",
   "metadata": {},
   "outputs": [
    {
     "data": {
      "text/plain": [
       "(-64941.125, 418967.875)"
      ]
     },
     "execution_count": 17,
     "metadata": {},
     "output_type": "execute_result"
    }
   ],
   "source": [
    "boundaries = calculate_outliers(test_x.fnlwgt)\n",
    "boundaries"
   ]
  },
  {
   "cell_type": "code",
   "execution_count": 18,
   "id": "9132ad55",
   "metadata": {},
   "outputs": [
    {
     "data": {
      "text/plain": [
       "159"
      ]
     },
     "execution_count": 18,
     "metadata": {},
     "output_type": "execute_result"
    }
   ],
   "source": [
    "is_outlier = (test_x.fnlwgt < boundaries[0]) | (test_x.fnlwgt > boundaries[1])\n",
    "is_outlier.sum()"
   ]
  },
  {
   "cell_type": "code",
   "execution_count": 19,
   "id": "1b95d0e9",
   "metadata": {},
   "outputs": [
    {
     "data": {
      "text/plain": [
       "0"
      ]
     },
     "execution_count": 19,
     "metadata": {},
     "output_type": "execute_result"
    }
   ],
   "source": [
    "test_x.loc[is_outlier, 'fnlwgt'] = int(boundaries[1])\n",
    "is_outlier = (test_x.fnlwgt < boundaries[0]) | (test_x.fnlwgt > boundaries[1]) \n",
    "is_outlier.sum()"
   ]
  },
  {
   "cell_type": "code",
   "execution_count": 20,
   "id": "39b887f8",
   "metadata": {},
   "outputs": [
    {
     "data": {
      "text/plain": [
       "(32.5, 52.5)"
      ]
     },
     "execution_count": 20,
     "metadata": {},
     "output_type": "execute_result"
    }
   ],
   "source": [
    "boundaries = calculate_outliers(train_x[\"hours-per-week\"])\n",
    "boundaries"
   ]
  },
  {
   "cell_type": "code",
   "execution_count": 21,
   "id": "ac6418af",
   "metadata": {},
   "outputs": [
    {
     "data": {
      "text/plain": [
       "9136"
      ]
     },
     "execution_count": 21,
     "metadata": {},
     "output_type": "execute_result"
    }
   ],
   "source": [
    "is_outlier = (train_x[\"hours-per-week\"] < boundaries[0]) | (train_x[\"hours-per-week\"] > boundaries[1])\n",
    "is_outlier.sum()"
   ]
  },
  {
   "cell_type": "code",
   "execution_count": 22,
   "id": "8176362b",
   "metadata": {},
   "outputs": [
    {
     "data": {
      "text/plain": [
       "0"
      ]
     },
     "execution_count": 22,
     "metadata": {},
     "output_type": "execute_result"
    }
   ],
   "source": [
    "train_x.loc[is_outlier, 'hours-per-week'] = int(boundaries[1])\n",
    "is_outlier = (train_x[\"hours-per-week\"] < boundaries[0]) | (train_x[\"hours-per-week\"] > boundaries[1]) \n",
    "is_outlier.sum()"
   ]
  },
  {
   "cell_type": "code",
   "execution_count": 23,
   "id": "0c52da6f",
   "metadata": {},
   "outputs": [
    {
     "data": {
      "text/plain": [
       "(32.5, 52.5)"
      ]
     },
     "execution_count": 23,
     "metadata": {},
     "output_type": "execute_result"
    }
   ],
   "source": [
    "boundaries = calculate_outliers(test_x[\"hours-per-week\"])\n",
    "boundaries"
   ]
  },
  {
   "cell_type": "code",
   "execution_count": 24,
   "id": "e8f52f0c",
   "metadata": {},
   "outputs": [
    {
     "data": {
      "text/plain": [
       "1606"
      ]
     },
     "execution_count": 24,
     "metadata": {},
     "output_type": "execute_result"
    }
   ],
   "source": [
    "is_outlier = (test_x[\"hours-per-week\"] < boundaries[0]) | (test_x[\"hours-per-week\"] > boundaries[1])\n",
    "is_outlier.sum()"
   ]
  },
  {
   "cell_type": "code",
   "execution_count": 25,
   "id": "6e1ef096",
   "metadata": {},
   "outputs": [
    {
     "data": {
      "text/plain": [
       "0"
      ]
     },
     "execution_count": 25,
     "metadata": {},
     "output_type": "execute_result"
    }
   ],
   "source": [
    "test_x.loc[is_outlier, 'hours-per-week'] = int(boundaries[1])\n",
    "is_outlier = (test_x[\"hours-per-week\"] < boundaries[0]) | (test_x[\"hours-per-week\"] > boundaries[1]) \n",
    "is_outlier.sum()"
   ]
  },
  {
   "cell_type": "markdown",
   "id": "8f719976",
   "metadata": {},
   "source": [
    "## Создание частотных переменных"
   ]
  },
  {
   "cell_type": "code",
   "execution_count": 26,
   "id": "0af59f45",
   "metadata": {},
   "outputs": [
    {
     "name": "stdout",
     "output_type": "stream",
     "text": [
      "<class 'pandas.core.frame.DataFrame'>\n",
      "Int64Index: 33212 entries, 16689 to 20736\n",
      "Data columns (total 12 columns):\n",
      " #   Column           Non-Null Count  Dtype \n",
      "---  ------           --------------  ----- \n",
      " 0   age              33212 non-null  int64 \n",
      " 1   workclass        33212 non-null  object\n",
      " 2   fnlwgt           33212 non-null  int64 \n",
      " 3   educational-num  33212 non-null  int64 \n",
      " 4   occupation       33212 non-null  object\n",
      " 5   relationship     33212 non-null  object\n",
      " 6   race             33212 non-null  object\n",
      " 7   gender           33212 non-null  object\n",
      " 8   capital-gain     33212 non-null  int64 \n",
      " 9   capital-loss     33212 non-null  int64 \n",
      " 10  hours-per-week   33212 non-null  int64 \n",
      " 11  native-country   33212 non-null  object\n",
      "dtypes: int64(6), object(6)\n",
      "memory usage: 3.3+ MB\n"
     ]
    }
   ],
   "source": [
    "train_x.info()"
   ]
  },
  {
   "cell_type": "code",
   "execution_count": 27,
   "id": "8392d124",
   "metadata": {},
   "outputs": [],
   "source": [
    "fe1 = train_x.groupby(\"workclass\").size()/len(train_x)\n",
    "train_x[\"workclass_freq\"] = train_x[\"workclass\"].map(fe1)\n",
    "fe4 = train_x.groupby(\"relationship\").size()/len(train_x)\n",
    "train_x[\"relationship_freq\"] = train_x[\"relationship\"].map(fe4)\n",
    "fe5 = train_x.groupby(\"gender\").size()/len(train_x)\n",
    "train_x[\"gender_freq\"] = train_x[\"gender\"].map(fe5)\n",
    "fe5 = train_x.groupby(\"occupation\").size()/len(train_x)\n",
    "train_x[\"occupation_freq\"] = train_x[\"occupation\"].map(fe5)\n",
    "fe6 = train_x.groupby(\"native-country\").size()/len(train_x)\n",
    "train_x[\"native-country_freq\"] = train_x[\"native-country\"].map(fe6)\n",
    "fe7 = train_x.groupby(\"race\").size()/len(train_x)\n",
    "train_x[\"race-country_freq\"] = train_x[\"race\"].map(fe7)"
   ]
  },
  {
   "cell_type": "code",
   "execution_count": 28,
   "id": "2edb42e5",
   "metadata": {},
   "outputs": [],
   "source": [
    "fe1 = test_x.groupby(\"workclass\").size()/len(test_x)\n",
    "test_x[\"workclass_freq\"] = test_x[\"workclass\"].map(fe1)\n",
    "fe4 = test_x.groupby(\"relationship\").size()/len(test_x)\n",
    "test_x[\"relationship_freq\"] = test_x[\"relationship\"].map(fe4)\n",
    "fe5 = test_x.groupby(\"gender\").size()/len(test_x)\n",
    "test_x[\"gender_freq\"] = test_x[\"gender\"].map(fe5)\n",
    "fe5 = test_x.groupby(\"occupation\").size()/len(test_x)\n",
    "test_x[\"occupation_freq\"] = test_x[\"occupation\"].map(fe5)\n",
    "fe6 = test_x.groupby(\"native-country\").size()/len(test_x)\n",
    "test_x[\"native-country_freq\"] = test_x[\"native-country\"].map(fe6)\n",
    "fe7 = test_x.groupby(\"race\").size()/len(test_x)\n",
    "test_x[\"race-country_freq\"] = test_x[\"race\"].map(fe7)"
   ]
  },
  {
   "cell_type": "code",
   "execution_count": 29,
   "id": "e09db4e7",
   "metadata": {},
   "outputs": [],
   "source": [
    "columns_for_drop = [ \"workclass\",\"relationship\", \"gender\",\n",
    "                    \"occupation\", 'native-country', \"race\"]\n",
    "train_x = train_x.drop(columns=columns_for_drop) \n",
    "test_x = test_x.drop(columns=columns_for_drop)"
   ]
  },
  {
   "cell_type": "code",
   "execution_count": 30,
   "id": "ce1a07da",
   "metadata": {},
   "outputs": [
    {
     "data": {
      "text/html": [
       "<div>\n",
       "<style scoped>\n",
       "    .dataframe tbody tr th:only-of-type {\n",
       "        vertical-align: middle;\n",
       "    }\n",
       "\n",
       "    .dataframe tbody tr th {\n",
       "        vertical-align: top;\n",
       "    }\n",
       "\n",
       "    .dataframe thead th {\n",
       "        text-align: right;\n",
       "    }\n",
       "</style>\n",
       "<table border=\"1\" class=\"dataframe\">\n",
       "  <thead>\n",
       "    <tr style=\"text-align: right;\">\n",
       "      <th></th>\n",
       "      <th>age</th>\n",
       "      <th>fnlwgt</th>\n",
       "      <th>educational-num</th>\n",
       "      <th>capital-gain</th>\n",
       "      <th>capital-loss</th>\n",
       "      <th>hours-per-week</th>\n",
       "      <th>workclass_freq</th>\n",
       "      <th>relationship_freq</th>\n",
       "      <th>gender_freq</th>\n",
       "      <th>occupation_freq</th>\n",
       "      <th>native-country_freq</th>\n",
       "      <th>race-country_freq</th>\n",
       "    </tr>\n",
       "  </thead>\n",
       "  <tbody>\n",
       "    <tr>\n",
       "      <th>16689</th>\n",
       "      <td>67</td>\n",
       "      <td>257557</td>\n",
       "      <td>4</td>\n",
       "      <td>10566</td>\n",
       "      <td>0</td>\n",
       "      <td>40</td>\n",
       "      <td>0.694388</td>\n",
       "      <td>0.404312</td>\n",
       "      <td>0.667801</td>\n",
       "      <td>0.048928</td>\n",
       "      <td>0.896724</td>\n",
       "      <td>0.095779</td>\n",
       "    </tr>\n",
       "    <tr>\n",
       "      <th>14645</th>\n",
       "      <td>45</td>\n",
       "      <td>242391</td>\n",
       "      <td>13</td>\n",
       "      <td>0</td>\n",
       "      <td>0</td>\n",
       "      <td>52</td>\n",
       "      <td>0.694388</td>\n",
       "      <td>0.404312</td>\n",
       "      <td>0.667801</td>\n",
       "      <td>0.122516</td>\n",
       "      <td>0.896724</td>\n",
       "      <td>0.854992</td>\n",
       "    </tr>\n",
       "    <tr>\n",
       "      <th>32925</th>\n",
       "      <td>45</td>\n",
       "      <td>180680</td>\n",
       "      <td>7</td>\n",
       "      <td>0</td>\n",
       "      <td>0</td>\n",
       "      <td>35</td>\n",
       "      <td>0.078646</td>\n",
       "      <td>0.404312</td>\n",
       "      <td>0.667801</td>\n",
       "      <td>0.124925</td>\n",
       "      <td>0.896724</td>\n",
       "      <td>0.854992</td>\n",
       "    </tr>\n",
       "    <tr>\n",
       "      <th>25476</th>\n",
       "      <td>45</td>\n",
       "      <td>189792</td>\n",
       "      <td>14</td>\n",
       "      <td>0</td>\n",
       "      <td>0</td>\n",
       "      <td>40</td>\n",
       "      <td>0.694388</td>\n",
       "      <td>0.404312</td>\n",
       "      <td>0.667801</td>\n",
       "      <td>0.114447</td>\n",
       "      <td>0.896724</td>\n",
       "      <td>0.854992</td>\n",
       "    </tr>\n",
       "    <tr>\n",
       "      <th>11266</th>\n",
       "      <td>29</td>\n",
       "      <td>245402</td>\n",
       "      <td>7</td>\n",
       "      <td>0</td>\n",
       "      <td>0</td>\n",
       "      <td>52</td>\n",
       "      <td>0.694388</td>\n",
       "      <td>0.261773</td>\n",
       "      <td>0.332199</td>\n",
       "      <td>0.100175</td>\n",
       "      <td>0.896724</td>\n",
       "      <td>0.854992</td>\n",
       "    </tr>\n",
       "    <tr>\n",
       "      <th>...</th>\n",
       "      <td>...</td>\n",
       "      <td>...</td>\n",
       "      <td>...</td>\n",
       "      <td>...</td>\n",
       "      <td>...</td>\n",
       "      <td>...</td>\n",
       "      <td>...</td>\n",
       "      <td>...</td>\n",
       "      <td>...</td>\n",
       "      <td>...</td>\n",
       "      <td>...</td>\n",
       "      <td>...</td>\n",
       "    </tr>\n",
       "    <tr>\n",
       "      <th>3266</th>\n",
       "      <td>50</td>\n",
       "      <td>187830</td>\n",
       "      <td>13</td>\n",
       "      <td>0</td>\n",
       "      <td>0</td>\n",
       "      <td>50</td>\n",
       "      <td>0.694388</td>\n",
       "      <td>0.261773</td>\n",
       "      <td>0.667801</td>\n",
       "      <td>0.122516</td>\n",
       "      <td>0.896724</td>\n",
       "      <td>0.854992</td>\n",
       "    </tr>\n",
       "    <tr>\n",
       "      <th>18020</th>\n",
       "      <td>43</td>\n",
       "      <td>147269</td>\n",
       "      <td>6</td>\n",
       "      <td>0</td>\n",
       "      <td>0</td>\n",
       "      <td>52</td>\n",
       "      <td>0.078646</td>\n",
       "      <td>0.404312</td>\n",
       "      <td>0.667801</td>\n",
       "      <td>0.124925</td>\n",
       "      <td>0.017193</td>\n",
       "      <td>0.854992</td>\n",
       "    </tr>\n",
       "    <tr>\n",
       "      <th>4474</th>\n",
       "      <td>36</td>\n",
       "      <td>180150</td>\n",
       "      <td>8</td>\n",
       "      <td>0</td>\n",
       "      <td>0</td>\n",
       "      <td>40</td>\n",
       "      <td>0.694388</td>\n",
       "      <td>0.261773</td>\n",
       "      <td>0.667801</td>\n",
       "      <td>0.042153</td>\n",
       "      <td>0.896724</td>\n",
       "      <td>0.854992</td>\n",
       "    </tr>\n",
       "    <tr>\n",
       "      <th>21717</th>\n",
       "      <td>38</td>\n",
       "      <td>258339</td>\n",
       "      <td>11</td>\n",
       "      <td>0</td>\n",
       "      <td>0</td>\n",
       "      <td>52</td>\n",
       "      <td>0.694388</td>\n",
       "      <td>0.404312</td>\n",
       "      <td>0.667801</td>\n",
       "      <td>0.100175</td>\n",
       "      <td>0.001415</td>\n",
       "      <td>0.854992</td>\n",
       "    </tr>\n",
       "    <tr>\n",
       "      <th>20736</th>\n",
       "      <td>31</td>\n",
       "      <td>117028</td>\n",
       "      <td>9</td>\n",
       "      <td>0</td>\n",
       "      <td>0</td>\n",
       "      <td>40</td>\n",
       "      <td>0.694388</td>\n",
       "      <td>0.404312</td>\n",
       "      <td>0.667801</td>\n",
       "      <td>0.060761</td>\n",
       "      <td>0.896724</td>\n",
       "      <td>0.854992</td>\n",
       "    </tr>\n",
       "  </tbody>\n",
       "</table>\n",
       "<p>33212 rows × 12 columns</p>\n",
       "</div>"
      ],
      "text/plain": [
       "       age  fnlwgt  educational-num  capital-gain  capital-loss  \\\n",
       "16689   67  257557                4         10566             0   \n",
       "14645   45  242391               13             0             0   \n",
       "32925   45  180680                7             0             0   \n",
       "25476   45  189792               14             0             0   \n",
       "11266   29  245402                7             0             0   \n",
       "...    ...     ...              ...           ...           ...   \n",
       "3266    50  187830               13             0             0   \n",
       "18020   43  147269                6             0             0   \n",
       "4474    36  180150                8             0             0   \n",
       "21717   38  258339               11             0             0   \n",
       "20736   31  117028                9             0             0   \n",
       "\n",
       "       hours-per-week  workclass_freq  relationship_freq  gender_freq  \\\n",
       "16689              40        0.694388           0.404312     0.667801   \n",
       "14645              52        0.694388           0.404312     0.667801   \n",
       "32925              35        0.078646           0.404312     0.667801   \n",
       "25476              40        0.694388           0.404312     0.667801   \n",
       "11266              52        0.694388           0.261773     0.332199   \n",
       "...               ...             ...                ...          ...   \n",
       "3266               50        0.694388           0.261773     0.667801   \n",
       "18020              52        0.078646           0.404312     0.667801   \n",
       "4474               40        0.694388           0.261773     0.667801   \n",
       "21717              52        0.694388           0.404312     0.667801   \n",
       "20736              40        0.694388           0.404312     0.667801   \n",
       "\n",
       "       occupation_freq  native-country_freq  race-country_freq  \n",
       "16689         0.048928             0.896724           0.095779  \n",
       "14645         0.122516             0.896724           0.854992  \n",
       "32925         0.124925             0.896724           0.854992  \n",
       "25476         0.114447             0.896724           0.854992  \n",
       "11266         0.100175             0.896724           0.854992  \n",
       "...                ...                  ...                ...  \n",
       "3266          0.122516             0.896724           0.854992  \n",
       "18020         0.124925             0.017193           0.854992  \n",
       "4474          0.042153             0.896724           0.854992  \n",
       "21717         0.100175             0.001415           0.854992  \n",
       "20736         0.060761             0.896724           0.854992  \n",
       "\n",
       "[33212 rows x 12 columns]"
      ]
     },
     "execution_count": 30,
     "metadata": {},
     "output_type": "execute_result"
    }
   ],
   "source": [
    "train_x"
   ]
  },
  {
   "cell_type": "markdown",
   "id": "f67c8eec",
   "metadata": {},
   "source": [
    "## Стандартизация и работа с категориальными переменными"
   ]
  },
  {
   "cell_type": "code",
   "execution_count": 31,
   "id": "2979eebb",
   "metadata": {},
   "outputs": [],
   "source": [
    "num_cols = [\n",
    "    \"age\",\n",
    "    \"fnlwgt\",\n",
    "    \"educational-num\",\n",
    "    \"capital-gain\",\n",
    "    \"capital-loss\",\n",
    "    \"hours-per-week\",\n",
    "    \"workclass_freq\",\n",
    "    \"relationship_freq\",\n",
    "    \"gender_freq\",\n",
    "    \"occupation_freq\",\n",
    "    \"native-country_freq\",\n",
    "    \"race-country_freq\"\n",
    "]"
   ]
  },
  {
   "cell_type": "code",
   "execution_count": 32,
   "id": "994dfa40",
   "metadata": {},
   "outputs": [],
   "source": [
    "from sklearn.preprocessing import StandardScaler\n",
    "\n",
    "scaler = StandardScaler()\n",
    "\n",
    "x_train_mm = scaler.fit_transform(train_x[num_cols])\n",
    "X_train_mm = pd.DataFrame(data = x_train_mm,  \n",
    "                  columns =['age_std','educational-num_std', 'fnlwgt_std',\n",
    "                           \"capital-gain_std\", \"capital-loss_std\",  \"hours-per-week_std\",\n",
    "                           \"workclass_std\", \"relationship_std\", \"gender_std\",\n",
    "                            \"occupation_std\", \"native-country_std\", \"race-country_std\"])\n",
    "x_test_mm = scaler.transform(test_x[num_cols])\n",
    "X_test_mm = pd.DataFrame(data = x_test_mm,  \n",
    "                  columns =['age_std','educational-num_std', 'fnlwgt_std',\n",
    "                           \"capital-gain_std\", \"capital-loss_std\",  \"hours-per-week_std\",\n",
    "                           \"workclass_std\", \"relationship_std\", \"gender_std\",\n",
    "                            \"occupation_std\", \"native-country_std\", \"race-country_std\"])\n",
    "train_x = pd.concat([X_train_mm, train_x.reset_index(drop=True)], axis=1)\n",
    "test_x = pd.concat([X_test_mm, test_x.reset_index(drop=True)], axis=1)\n",
    "columns_for_drop = [ \"educational-num\",\"capital-gain\", \"capital-loss\",\n",
    "                    \"hours-per-week\", 'fnlwgt', \"age\", \n",
    "                   \"workclass_freq\", \"relationship_freq\", \"gender_freq\",\n",
    "                    \"occupation_freq\", \"native-country_freq\",\"race-country_freq\"]\n",
    "train_x = train_x.drop(columns=columns_for_drop) \n",
    "test_x = test_x.drop(columns=columns_for_drop) "
   ]
  },
  {
   "cell_type": "code",
   "execution_count": 33,
   "id": "006a15dd",
   "metadata": {},
   "outputs": [
    {
     "data": {
      "text/html": [
       "<div>\n",
       "<style scoped>\n",
       "    .dataframe tbody tr th:only-of-type {\n",
       "        vertical-align: middle;\n",
       "    }\n",
       "\n",
       "    .dataframe tbody tr th {\n",
       "        vertical-align: top;\n",
       "    }\n",
       "\n",
       "    .dataframe thead th {\n",
       "        text-align: right;\n",
       "    }\n",
       "</style>\n",
       "<table border=\"1\" class=\"dataframe\">\n",
       "  <thead>\n",
       "    <tr style=\"text-align: right;\">\n",
       "      <th></th>\n",
       "      <th>age_std</th>\n",
       "      <th>educational-num_std</th>\n",
       "      <th>fnlwgt_std</th>\n",
       "      <th>capital-gain_std</th>\n",
       "      <th>capital-loss_std</th>\n",
       "      <th>hours-per-week_std</th>\n",
       "      <th>workclass_std</th>\n",
       "      <th>relationship_std</th>\n",
       "      <th>gender_std</th>\n",
       "      <th>occupation_std</th>\n",
       "      <th>native-country_std</th>\n",
       "      <th>race-country_std</th>\n",
       "    </tr>\n",
       "  </thead>\n",
       "  <tbody>\n",
       "    <tr>\n",
       "      <th>0</th>\n",
       "      <td>2.072196</td>\n",
       "      <td>0.744113</td>\n",
       "      <td>-2.370531</td>\n",
       "      <td>1.298042</td>\n",
       "      <td>-0.216591</td>\n",
       "      <td>-0.765003</td>\n",
       "      <td>0.663056</td>\n",
       "      <td>1.056110</td>\n",
       "      <td>0.705303</td>\n",
       "      <td>-1.374900</td>\n",
       "      <td>0.339354</td>\n",
       "      <td>-2.336309</td>\n",
       "    </tr>\n",
       "    <tr>\n",
       "      <th>1</th>\n",
       "      <td>0.461170</td>\n",
       "      <td>0.584876</td>\n",
       "      <td>1.138756</td>\n",
       "      <td>-0.143906</td>\n",
       "      <td>-0.216591</td>\n",
       "      <td>1.310360</td>\n",
       "      <td>0.663056</td>\n",
       "      <td>1.056110</td>\n",
       "      <td>0.705303</td>\n",
       "      <td>0.741920</td>\n",
       "      <td>0.339354</td>\n",
       "      <td>0.411350</td>\n",
       "    </tr>\n",
       "    <tr>\n",
       "      <th>2</th>\n",
       "      <td>0.461170</td>\n",
       "      <td>-0.063066</td>\n",
       "      <td>-1.200769</td>\n",
       "      <td>-0.143906</td>\n",
       "      <td>-0.216591</td>\n",
       "      <td>-1.629738</td>\n",
       "      <td>-1.431861</td>\n",
       "      <td>1.056110</td>\n",
       "      <td>0.705303</td>\n",
       "      <td>0.811210</td>\n",
       "      <td>0.339354</td>\n",
       "      <td>0.411350</td>\n",
       "    </tr>\n",
       "    <tr>\n",
       "      <th>3</th>\n",
       "      <td>0.461170</td>\n",
       "      <td>0.032607</td>\n",
       "      <td>1.528677</td>\n",
       "      <td>-0.143906</td>\n",
       "      <td>-0.216591</td>\n",
       "      <td>-0.765003</td>\n",
       "      <td>0.663056</td>\n",
       "      <td>1.056110</td>\n",
       "      <td>0.705303</td>\n",
       "      <td>0.509797</td>\n",
       "      <td>0.339354</td>\n",
       "      <td>0.411350</td>\n",
       "    </tr>\n",
       "    <tr>\n",
       "      <th>4</th>\n",
       "      <td>-0.710485</td>\n",
       "      <td>0.616490</td>\n",
       "      <td>-1.200769</td>\n",
       "      <td>-0.143906</td>\n",
       "      <td>-0.216591</td>\n",
       "      <td>1.310360</td>\n",
       "      <td>0.663056</td>\n",
       "      <td>-0.057191</td>\n",
       "      <td>-1.417830</td>\n",
       "      <td>0.099252</td>\n",
       "      <td>0.339354</td>\n",
       "      <td>0.411350</td>\n",
       "    </tr>\n",
       "    <tr>\n",
       "      <th>...</th>\n",
       "      <td>...</td>\n",
       "      <td>...</td>\n",
       "      <td>...</td>\n",
       "      <td>...</td>\n",
       "      <td>...</td>\n",
       "      <td>...</td>\n",
       "      <td>...</td>\n",
       "      <td>...</td>\n",
       "      <td>...</td>\n",
       "      <td>...</td>\n",
       "      <td>...</td>\n",
       "      <td>...</td>\n",
       "    </tr>\n",
       "    <tr>\n",
       "      <th>33207</th>\n",
       "      <td>0.827312</td>\n",
       "      <td>0.012006</td>\n",
       "      <td>1.138756</td>\n",
       "      <td>-0.143906</td>\n",
       "      <td>-0.216591</td>\n",
       "      <td>0.964466</td>\n",
       "      <td>0.663056</td>\n",
       "      <td>-0.057191</td>\n",
       "      <td>0.705303</td>\n",
       "      <td>0.741920</td>\n",
       "      <td>0.339354</td>\n",
       "      <td>0.411350</td>\n",
       "    </tr>\n",
       "    <tr>\n",
       "      <th>33208</th>\n",
       "      <td>0.314713</td>\n",
       "      <td>-0.413868</td>\n",
       "      <td>-1.590690</td>\n",
       "      <td>-0.143906</td>\n",
       "      <td>-0.216591</td>\n",
       "      <td>1.310360</td>\n",
       "      <td>-1.431861</td>\n",
       "      <td>1.056110</td>\n",
       "      <td>0.705303</td>\n",
       "      <td>0.811210</td>\n",
       "      <td>-2.912860</td>\n",
       "      <td>0.411350</td>\n",
       "    </tr>\n",
       "    <tr>\n",
       "      <th>33209</th>\n",
       "      <td>-0.197886</td>\n",
       "      <td>-0.068631</td>\n",
       "      <td>-0.810848</td>\n",
       "      <td>-0.143906</td>\n",
       "      <td>-0.216591</td>\n",
       "      <td>-0.765003</td>\n",
       "      <td>0.663056</td>\n",
       "      <td>-0.057191</td>\n",
       "      <td>0.705303</td>\n",
       "      <td>-1.569780</td>\n",
       "      <td>0.339354</td>\n",
       "      <td>0.411350</td>\n",
       "    </tr>\n",
       "    <tr>\n",
       "      <th>33210</th>\n",
       "      <td>-0.051429</td>\n",
       "      <td>0.752323</td>\n",
       "      <td>0.358915</td>\n",
       "      <td>-0.143906</td>\n",
       "      <td>-0.216591</td>\n",
       "      <td>1.310360</td>\n",
       "      <td>0.663056</td>\n",
       "      <td>1.056110</td>\n",
       "      <td>0.705303</td>\n",
       "      <td>0.099252</td>\n",
       "      <td>-2.971200</td>\n",
       "      <td>0.411350</td>\n",
       "    </tr>\n",
       "    <tr>\n",
       "      <th>33211</th>\n",
       "      <td>-0.564028</td>\n",
       "      <td>-0.731387</td>\n",
       "      <td>-0.420927</td>\n",
       "      <td>-0.143906</td>\n",
       "      <td>-0.216591</td>\n",
       "      <td>-0.765003</td>\n",
       "      <td>0.663056</td>\n",
       "      <td>1.056110</td>\n",
       "      <td>0.705303</td>\n",
       "      <td>-1.034512</td>\n",
       "      <td>0.339354</td>\n",
       "      <td>0.411350</td>\n",
       "    </tr>\n",
       "  </tbody>\n",
       "</table>\n",
       "<p>33212 rows × 12 columns</p>\n",
       "</div>"
      ],
      "text/plain": [
       "        age_std  educational-num_std  fnlwgt_std  capital-gain_std  \\\n",
       "0      2.072196             0.744113   -2.370531          1.298042   \n",
       "1      0.461170             0.584876    1.138756         -0.143906   \n",
       "2      0.461170            -0.063066   -1.200769         -0.143906   \n",
       "3      0.461170             0.032607    1.528677         -0.143906   \n",
       "4     -0.710485             0.616490   -1.200769         -0.143906   \n",
       "...         ...                  ...         ...               ...   \n",
       "33207  0.827312             0.012006    1.138756         -0.143906   \n",
       "33208  0.314713            -0.413868   -1.590690         -0.143906   \n",
       "33209 -0.197886            -0.068631   -0.810848         -0.143906   \n",
       "33210 -0.051429             0.752323    0.358915         -0.143906   \n",
       "33211 -0.564028            -0.731387   -0.420927         -0.143906   \n",
       "\n",
       "       capital-loss_std  hours-per-week_std  workclass_std  relationship_std  \\\n",
       "0             -0.216591           -0.765003       0.663056          1.056110   \n",
       "1             -0.216591            1.310360       0.663056          1.056110   \n",
       "2             -0.216591           -1.629738      -1.431861          1.056110   \n",
       "3             -0.216591           -0.765003       0.663056          1.056110   \n",
       "4             -0.216591            1.310360       0.663056         -0.057191   \n",
       "...                 ...                 ...            ...               ...   \n",
       "33207         -0.216591            0.964466       0.663056         -0.057191   \n",
       "33208         -0.216591            1.310360      -1.431861          1.056110   \n",
       "33209         -0.216591           -0.765003       0.663056         -0.057191   \n",
       "33210         -0.216591            1.310360       0.663056          1.056110   \n",
       "33211         -0.216591           -0.765003       0.663056          1.056110   \n",
       "\n",
       "       gender_std  occupation_std  native-country_std  race-country_std  \n",
       "0        0.705303       -1.374900            0.339354         -2.336309  \n",
       "1        0.705303        0.741920            0.339354          0.411350  \n",
       "2        0.705303        0.811210            0.339354          0.411350  \n",
       "3        0.705303        0.509797            0.339354          0.411350  \n",
       "4       -1.417830        0.099252            0.339354          0.411350  \n",
       "...           ...             ...                 ...               ...  \n",
       "33207    0.705303        0.741920            0.339354          0.411350  \n",
       "33208    0.705303        0.811210           -2.912860          0.411350  \n",
       "33209    0.705303       -1.569780            0.339354          0.411350  \n",
       "33210    0.705303        0.099252           -2.971200          0.411350  \n",
       "33211    0.705303       -1.034512            0.339354          0.411350  \n",
       "\n",
       "[33212 rows x 12 columns]"
      ]
     },
     "execution_count": 33,
     "metadata": {},
     "output_type": "execute_result"
    }
   ],
   "source": [
    "train_x"
   ]
  },
  {
   "cell_type": "code",
   "execution_count": 34,
   "id": "a5bc60e6",
   "metadata": {},
   "outputs": [
    {
     "data": {
      "text/plain": [
       "age_std                0\n",
       "educational-num_std    0\n",
       "fnlwgt_std             0\n",
       "capital-gain_std       0\n",
       "capital-loss_std       0\n",
       "hours-per-week_std     0\n",
       "workclass_std          0\n",
       "relationship_std       0\n",
       "gender_std             0\n",
       "occupation_std         0\n",
       "native-country_std     0\n",
       "race-country_std       0\n",
       "dtype: int64"
      ]
     },
     "execution_count": 34,
     "metadata": {},
     "output_type": "execute_result"
    }
   ],
   "source": [
    "train_x.isna().sum().sort_values(ascending=False)"
   ]
  },
  {
   "cell_type": "markdown",
   "id": "2810959c",
   "metadata": {},
   "source": [
    "## Машинное обучение"
   ]
  },
  {
   "cell_type": "code",
   "execution_count": 35,
   "id": "5ca0dad0",
   "metadata": {},
   "outputs": [],
   "source": [
    "f1 = make_scorer(f1_score, average='micro')"
   ]
  },
  {
   "cell_type": "markdown",
   "id": "84d54ca9",
   "metadata": {},
   "source": [
    "## Логистическая регрессия"
   ]
  },
  {
   "cell_type": "code",
   "execution_count": 36,
   "id": "f76176e4",
   "metadata": {},
   "outputs": [
    {
     "data": {
      "text/plain": [
       "0.8370863186625725"
      ]
     },
     "execution_count": 36,
     "metadata": {},
     "output_type": "execute_result"
    }
   ],
   "source": [
    "logreg = LogisticRegression(random_state = 42)\n",
    "logreg.fit(train_x, train_y)\n",
    "prediction = logreg.predict(test_x)\n",
    "f1_score(test_y, prediction, average='micro')"
   ]
  },
  {
   "cell_type": "code",
   "execution_count": 37,
   "id": "f825f9ea",
   "metadata": {},
   "outputs": [
    {
     "name": "stdout",
     "output_type": "stream",
     "text": [
      "{'C': 0.5689866029018293, 'penalty': 'l2'}\n",
      "0.8304229245982224\n",
      "LogisticRegression(C=0.5689866029018293, random_state=42)\n"
     ]
    }
   ],
   "source": [
    "from sklearn.model_selection import GridSearchCV\n",
    "param_grid = {'C': np.logspace(-4, 4, 50),\n",
    "'penalty': ['l1', 'l2']}\n",
    "clf = GridSearchCV(LogisticRegression(random_state = 42), param_grid, cv = 5, verbose = 0, n_jobs = -1, scoring = f1)\n",
    "best_model = clf.fit(train_x, train_y) \n",
    "print(clf.best_params_)\n",
    "print(clf.best_score_)\n",
    "print(clf.best_estimator_)"
   ]
  },
  {
   "cell_type": "markdown",
   "id": "bb5e766f",
   "metadata": {},
   "source": [
    "## GradientBoostingClassifier"
   ]
  },
  {
   "cell_type": "code",
   "execution_count": 39,
   "id": "53e3a6af",
   "metadata": {},
   "outputs": [
    {
     "data": {
      "text/plain": [
       "0.8650631183896281"
      ]
     },
     "execution_count": 39,
     "metadata": {},
     "output_type": "execute_result"
    }
   ],
   "source": [
    "from sklearn.ensemble import GradientBoostingClassifier\n",
    "gbdt = GradientBoostingClassifier(criterion='friedman_mse', init=None,\n",
    "                           learning_rate=0.1, loss='deviance', max_depth=3,\n",
    "                           max_features=None, max_leaf_nodes=None,\n",
    "                           min_impurity_decrease=0.0, \n",
    "                           min_samples_leaf=1, min_samples_split=2,\n",
    "                           min_weight_fraction_leaf=0.0, n_estimators=100,\n",
    "                           n_iter_no_change=None, \n",
    "                           random_state=None, subsample=1.0, tol=0.0001,\n",
    "                           validation_fraction=0.1, verbose=0,\n",
    "                           warm_start=False)\n",
    "gbdt.fit(train_x, train_y)\n",
    "prediction = gbdt.predict(test_x)\n",
    "f1_score(test_y, prediction, average='micro')"
   ]
  },
  {
   "cell_type": "markdown",
   "id": "43de0490",
   "metadata": {},
   "source": [
    "## AdaBoostClassifier"
   ]
  },
  {
   "cell_type": "code",
   "execution_count": 40,
   "id": "b563cee8",
   "metadata": {},
   "outputs": [
    {
     "data": {
      "text/plain": [
       "0.861310133060389"
      ]
     },
     "execution_count": 40,
     "metadata": {},
     "output_type": "execute_result"
    }
   ],
   "source": [
    "from sklearn.ensemble import AdaBoostClassifier\n",
    "ada=AdaBoostClassifier(algorithm='SAMME.R', base_estimator=None, learning_rate=1.0,\n",
    "                   n_estimators=100, random_state=None)\n",
    "qwe = ada.fit(train_x, train_y)\n",
    "prediction = qwe.predict(test_x)\n",
    "f1_score(test_y, prediction, average='micro')"
   ]
  },
  {
   "cell_type": "markdown",
   "id": "9c20d311",
   "metadata": {},
   "source": [
    "## MLP"
   ]
  },
  {
   "cell_type": "code",
   "execution_count": 41,
   "id": "70e57d8b",
   "metadata": {},
   "outputs": [
    {
     "data": {
      "text/plain": [
       "0.8481746844080519"
      ]
     },
     "execution_count": 41,
     "metadata": {},
     "output_type": "execute_result"
    }
   ],
   "source": [
    "mlp = MLPClassifier(random_state=42).fit(train_x, train_y)\n",
    "prediction = mlp.predict(test_x)\n",
    "f1_score(test_y, prediction, average='micro')"
   ]
  },
  {
   "cell_type": "markdown",
   "id": "a00cf9d6",
   "metadata": {},
   "source": [
    "## Случайный лес"
   ]
  },
  {
   "cell_type": "code",
   "execution_count": 42,
   "id": "cebe0378",
   "metadata": {},
   "outputs": [
    {
     "data": {
      "text/plain": [
       "0.8520982599795291"
      ]
     },
     "execution_count": 42,
     "metadata": {},
     "output_type": "execute_result"
    }
   ],
   "source": [
    "rfmodel = RandomForestClassifier(random_state = 42).fit(train_x, train_y)\n",
    "prediction = rfmodel.predict(test_x)\n",
    "f1_score(test_y, prediction, average='micro')"
   ]
  },
  {
   "cell_type": "markdown",
   "id": "18ed0610",
   "metadata": {},
   "source": [
    "## Тюнинг случайного леса"
   ]
  },
  {
   "cell_type": "code",
   "execution_count": 43,
   "id": "8d457a0d",
   "metadata": {},
   "outputs": [
    {
     "data": {
      "text/plain": [
       "Text(0, 0.5, 'f2 on test')"
      ]
     },
     "execution_count": 43,
     "metadata": {},
     "output_type": "execute_result"
    },
    {
     "data": {
      "image/png": "[encoded data removed]",
      "text/plain": [
       "<Figure size 432x288 with 1 Axes>"
      ]
     },
     "metadata": {},
     "output_type": "display_data"
    }
   ],
   "source": [
    "N = []\n",
    "f2 = []\n",
    "\n",
    "for n in np.arange(10, 150, 10):\n",
    "    rf = RandomForestClassifier(n_estimators = 5)\n",
    "\n",
    "    rf.fit(train_x, train_y)\n",
    "\n",
    "    pred_rf = rf.predict(test_x)\n",
    "    N.append(n)\n",
    "    f2.append(f1_score(test_y,  pred_rf, average='micro'))\n",
    "\n",
    "plt.plot(N, f2, '-')\n",
    "plt.xlabel('number of trees in forest')\n",
    "plt.ylabel('f2 on test')"
   ]
  },
  {
   "cell_type": "code",
   "execution_count": 44,
   "id": "2ffd160f",
   "metadata": {},
   "outputs": [
    {
     "data": {
      "text/plain": [
       "[(100, 0.8382804503582395),\n",
       " (20, 0.8375980893892869),\n",
       " (60, 0.8367451381780963),\n",
       " (40, 0.8362333674513818),\n",
       " (70, 0.8352098259979529)]"
      ]
     },
     "execution_count": 44,
     "metadata": {},
     "output_type": "execute_result"
    }
   ],
   "source": [
    "f_imp_list1 = list(zip(N, f2))\n",
    "f_imp_list1.sort(key = lambda x: x[1], reverse=True)\n",
    "f_imp_list1[:5]"
   ]
  },
  {
   "cell_type": "code",
   "execution_count": 45,
   "id": "19ae2702",
   "metadata": {},
   "outputs": [
    {
     "name": "stdout",
     "output_type": "stream",
     "text": [
      "{'min_samples_split': 12, 'min_samples_leaf': 2, 'max_features': 'sqrt', 'max_depth': 18}\n",
      "0.8635433426866109\n"
     ]
    }
   ],
   "source": [
    "parameters = {'max_depth' : np.arange(2, 100, 4),\n",
    "          'max_features' : ['sqrt', 'log2', None],\n",
    "          'min_samples_split' : [int(x) for x in np.linspace(start = 2, stop = 50, num = 10)],\n",
    "          'min_samples_leaf' : [int(x) for x in np.linspace(start = 2, stop = 50, num = 10)]\n",
    "          }\n",
    "xlf = RandomForestClassifier(n_estimators=100)\n",
    "cv = RandomizedSearchCV(estimator = xlf, param_distributions=parameters, scoring = f1, n_iter = 80, cv=3, n_jobs = -1)\n",
    "cv.fit(train_x, train_y)    \n",
    "print(cv.best_params_)\n",
    "print(cv.best_score_)"
   ]
  },
  {
   "cell_type": "code",
   "execution_count": 46,
   "id": "92b733aa",
   "metadata": {},
   "outputs": [
    {
     "data": {
      "text/plain": [
       "0.8648925281473899"
      ]
     },
     "execution_count": 46,
     "metadata": {},
     "output_type": "execute_result"
    }
   ],
   "source": [
    "best_model = RandomForestClassifier(n_estimators=100, max_depth = 18, min_samples_split = 12, min_samples_leaf =2, max_features = \"sqrt\")\n",
    "best_model.fit(train_x, train_y)\n",
    "prediction = best_model.predict(test_x)\n",
    "f1_score(test_y, prediction, average='micro')"
   ]
  },
  {
   "cell_type": "code",
   "execution_count": 47,
   "id": "7842cfe9",
   "metadata": {},
   "outputs": [
    {
     "data": {
      "image/png": "[encoded data removed]",
      "text/plain": [
       "<Figure size 432x288 with 1 Axes>"
      ]
     },
     "metadata": {},
     "output_type": "display_data"
    }
   ],
   "source": [
    "features = train_x.columns\n",
    "importances = best_model.feature_importances_\n",
    "indices = np.argsort(importances)\n",
    "\n",
    "plt.title('Feature Importances')\n",
    "plt.barh(range(len(indices)), importances[indices], color='b', align='center')\n",
    "plt.yticks(range(len(indices)), [features[i] for i in indices])\n",
    "plt.xlabel('Relative Importance')\n",
    "plt.show()"
   ]
  },
  {
   "cell_type": "code",
   "execution_count": 48,
   "id": "3080fd37",
   "metadata": {},
   "outputs": [
    {
     "data": {
      "text/plain": [
       "[('relationship_std', 0.2414980291735583),\n",
       " ('capital-gain_std', 0.18788325920436785),\n",
       " ('fnlwgt_std', 0.14793504623163814),\n",
       " ('age_std', 0.11562829605488811),\n",
       " ('occupation_std', 0.08411492726145992),\n",
       " ('educational-num_std', 0.06886700995321812),\n",
       " ('capital-loss_std', 0.05317768503332839),\n",
       " ('workclass_std', 0.03179839941175583),\n",
       " ('hours-per-week_std', 0.02843793741530411),\n",
       " ('gender_std', 0.01765147584521081)]"
      ]
     },
     "execution_count": 48,
     "metadata": {},
     "output_type": "execute_result"
    }
   ],
   "source": [
    "f_imp_list2 = list(zip(features, best_model.feature_importances_))\n",
    "f_imp_list2.sort(key = lambda x: x[1], reverse=True)\n",
    "f_imp_list2[:10]"
   ]
  },
  {
   "cell_type": "markdown",
   "id": "15fbb836",
   "metadata": {},
   "source": [
    "## Catboost"
   ]
  },
  {
   "cell_type": "code",
   "execution_count": null,
   "id": "aa13c69a",
   "metadata": {},
   "outputs": [],
   "source": [
    "parameters = {\n",
    "              'depth': [1, 4, 7, 10, 13, 16, 19],\n",
    "              'learning_rate': [0.03, 0.1, 0.15, 0.3, 0.9],\n",
    "              'l2_leaf_reg': [1, 3, 5, 7, 9, 11],\n",
    "              'iterations': [100, 200, 300, 400, 500]}\n",
    "label_ratio = (y==1).sum()/(y==0).sum()\n",
    "cb = cb.CatBoostClassifier(scale_pos_weight = label_ratio, logging_level='Silent')          \n",
    "cv = RandomizedSearchCV(estimator = cb, scoring = f1, param_distributions=parameters, n_iter = 90, cv=3, n_jobs = -1)\n",
    "cv.fit(train_x, train_y)    \n",
    "print(cv.best_params_)\n",
    "print(cv.best_score_)"
   ]
  },
  {
   "cell_type": "markdown",
   "id": "ed45b475",
   "metadata": {},
   "source": [
    "## XGBOOST"
   ]
  },
  {
   "cell_type": "code",
   "execution_count": 56,
   "id": "9c70c38e",
   "metadata": {},
   "outputs": [
    {
     "data": {
      "text/plain": [
       "0.8357215967246674"
      ]
     },
     "execution_count": 56,
     "metadata": {},
     "output_type": "execute_result"
    }
   ],
   "source": [
    "clf_1 = xgboost.XGBClassifier(objective = \"binary:logistic\", scale_pos_weight=(y.value_counts()[0]/y.value_counts()[1])).fit(train_x, train_y)\n",
    "prediction = clf_1.predict(test_x)\n",
    "f1_score(test_y, prediction, average='micro')"
   ]
  },
  {
   "cell_type": "code",
   "execution_count": null,
   "id": "fd285c4b",
   "metadata": {},
   "outputs": [],
   "source": [
    "parameters = {\n",
    "              'max_depth': [5, 10, 15, 20, 25],\n",
    "              'learning_rate': [0.01, 0.05, 0.1, 0.15],\n",
    "              'n_estimators': [500, 1000, 2000, 3000, 5000],\n",
    "              'min_child_weight': [1, 5, 15, 200],\n",
    "              'subsample': [0.6, 0.8, 0.95],\n",
    "              'colsample_bytree': [0.5, 0.7, 0.9], \n",
    "}\n",
    "xlf = xgboost.XGBClassifier(objective = \"binary:logistic\", scale_pos_weight=(y.value_counts()[0]/y.value_counts()[1]))        \n",
    "cv = RandomizedSearchCV(estimator = xlf, param_distributions=parameters, n_iter = 80, cv=3, n_jobs = -1, scoring = f1)\n",
    "cv.fit(train_x, train_y)    \n",
    "print(cv.best_params_)\n",
    "print(cv.best_score_)"
   ]
  },
  {
   "cell_type": "code",
   "execution_count": null,
   "id": "cf46e5cc",
   "metadata": {},
   "outputs": [],
   "source": [
    "f_imp_list = list(zip(train_x.columns, cv.feature_importances_))\n",
    "f_imp_list.sort(key = lambda x: x[1], reverse=True)\n",
    "f_imp_list[:5]"
   ]
  },
  {
   "cell_type": "markdown",
   "id": "d63437be",
   "metadata": {},
   "source": [
    "## Pytorch"
   ]
  },
  {
   "cell_type": "code",
   "execution_count": 49,
   "id": "83934d43",
   "metadata": {},
   "outputs": [
    {
     "data": {
      "text/plain": [
       "<torch._C.Generator at 0x22c1f102eb0>"
      ]
     },
     "execution_count": 49,
     "metadata": {},
     "output_type": "execute_result"
    }
   ],
   "source": [
    "import torch\n",
    "import random\n",
    "import numpy as np\n",
    "random.seed(0) \n",
    "np.random.seed(0) \n",
    "torch.manual_seed(0) "
   ]
  },
  {
   "cell_type": "code",
   "execution_count": 50,
   "id": "0ecf93dd",
   "metadata": {},
   "outputs": [],
   "source": [
    "train_X = train_x.to_numpy ()\n",
    "test_X = test_x.to_numpy ()\n",
    "train_Y = train_y.to_numpy ()\n",
    "test_Y = test_y.to_numpy ()\n",
    "X_train = torch.FloatTensor(train_X) \n",
    "X_test = torch.FloatTensor(test_X) \n",
    "y_train = torch.LongTensor(train_Y)\n",
    "y_test = torch.LongTensor(test_Y)"
   ]
  },
  {
   "cell_type": "code",
   "execution_count": 54,
   "id": "7674c2ae",
   "metadata": {},
   "outputs": [],
   "source": [
    "class RichNet(torch.nn.Module):\n",
    "    def __init__(self, n_hidden_neurons):\n",
    "        super(RichNet, self).__init__()\n",
    "        \n",
    "        self.fc1 = torch.nn.Linear(12, n_hidden_neurons)\n",
    "        self.activ1 = torch.nn.Sigmoid()\n",
    "        self.fc2 = torch.nn.Linear(n_hidden_neurons, n_hidden_neurons)\n",
    "        self.activ2 = torch.nn.Sigmoid()\n",
    "        self.fc3 = torch.nn.Linear(n_hidden_neurons, 1) \n",
    "        \n",
    "    def forward(self, x):\n",
    "        x = self.fc1(x)\n",
    "        x = self.activ1(x)\n",
    "        x = self.fc2(x)\n",
    "        x = self.activ2(x)\n",
    "        x = self.fc3(x)\n",
    "        return x\n",
    "\n",
    "    \n",
    "model = RichNet(5)"
   ]
  },
  {
   "cell_type": "code",
   "execution_count": 55,
   "id": "3d5574ec",
   "metadata": {},
   "outputs": [
    {
     "name": "stdout",
     "output_type": "stream",
     "text": [
      "Epoch:   0 | Loss: 0.59303, Accuracy: 76.05% | Test loss: 0.58648, Test acc: 76.05%\n",
      "Epoch:  50 | Loss: 0.49531, Accuracy: 76.05% | Test loss: 0.49297, Test acc: 76.05%\n",
      "Epoch: 100 | Loss: 0.41239, Accuracy: 82.03% | Test loss: 0.40996, Test acc: 82.89%\n",
      "Epoch: 150 | Loss: 0.39244, Accuracy: 83.27% | Test loss: 0.38839, Test acc: 83.88%\n",
      "Epoch: 200 | Loss: 0.37595, Accuracy: 83.37% | Test loss: 0.37168, Test acc: 84.12%\n",
      "Epoch: 250 | Loss: 0.35924, Accuracy: 83.53% | Test loss: 0.35722, Test acc: 84.17%\n",
      "Epoch: 300 | Loss: 0.34759, Accuracy: 83.84% | Test loss: 0.34752, Test acc: 84.32%\n",
      "Epoch: 350 | Loss: 0.34239, Accuracy: 84.01% | Test loss: 0.34225, Test acc: 84.41%\n",
      "Epoch: 400 | Loss: 0.33964, Accuracy: 84.01% | Test loss: 0.34007, Test acc: 84.31%\n",
      "Epoch: 450 | Loss: 0.33731, Accuracy: 84.13% | Test loss: 0.33855, Test acc: 84.25%\n",
      "Epoch: 500 | Loss: 0.33562, Accuracy: 84.25% | Test loss: 0.33731, Test acc: 84.56%\n",
      "Epoch: 550 | Loss: 0.33436, Accuracy: 84.29% | Test loss: 0.33638, Test acc: 84.44%\n",
      "Epoch: 600 | Loss: 0.33340, Accuracy: 84.37% | Test loss: 0.33563, Test acc: 84.44%\n",
      "Epoch: 650 | Loss: 0.33263, Accuracy: 84.42% | Test loss: 0.33505, Test acc: 84.53%\n",
      "Epoch: 700 | Loss: 0.33197, Accuracy: 84.42% | Test loss: 0.33459, Test acc: 84.60%\n",
      "Epoch: 750 | Loss: 0.33141, Accuracy: 84.48% | Test loss: 0.33419, Test acc: 84.68%\n",
      "Epoch: 800 | Loss: 0.33092, Accuracy: 84.48% | Test loss: 0.33384, Test acc: 84.68%\n",
      "Epoch: 850 | Loss: 0.33051, Accuracy: 84.47% | Test loss: 0.33353, Test acc: 84.68%\n",
      "Epoch: 900 | Loss: 0.33016, Accuracy: 84.50% | Test loss: 0.33327, Test acc: 84.77%\n",
      "Epoch: 950 | Loss: 0.32986, Accuracy: 84.48% | Test loss: 0.33306, Test acc: 84.75%\n",
      "Epoch: 1000 | Loss: 0.32960, Accuracy: 84.51% | Test loss: 0.33292, Test acc: 84.73%\n",
      "Epoch: 1050 | Loss: 0.32938, Accuracy: 84.51% | Test loss: 0.33282, Test acc: 84.73%\n",
      "Epoch: 1100 | Loss: 0.32919, Accuracy: 84.53% | Test loss: 0.33273, Test acc: 84.72%\n",
      "Epoch: 1150 | Loss: 0.32901, Accuracy: 84.57% | Test loss: 0.33267, Test acc: 84.68%\n",
      "Epoch: 1200 | Loss: 0.32885, Accuracy: 84.59% | Test loss: 0.33261, Test acc: 84.70%\n",
      "Epoch: 1250 | Loss: 0.32870, Accuracy: 84.62% | Test loss: 0.33257, Test acc: 84.72%\n",
      "Epoch: 1300 | Loss: 0.32857, Accuracy: 84.62% | Test loss: 0.33252, Test acc: 84.70%\n",
      "Epoch: 1350 | Loss: 0.32845, Accuracy: 84.63% | Test loss: 0.33249, Test acc: 84.75%\n",
      "Epoch: 1400 | Loss: 0.32834, Accuracy: 84.64% | Test loss: 0.33246, Test acc: 84.75%\n",
      "Epoch: 1450 | Loss: 0.32824, Accuracy: 84.64% | Test loss: 0.33243, Test acc: 84.78%\n",
      "Epoch: 1500 | Loss: 0.32815, Accuracy: 84.65% | Test loss: 0.33240, Test acc: 84.80%\n",
      "Epoch: 1550 | Loss: 0.32807, Accuracy: 84.65% | Test loss: 0.33237, Test acc: 84.80%\n",
      "Epoch: 1600 | Loss: 0.32799, Accuracy: 84.65% | Test loss: 0.33234, Test acc: 84.80%\n",
      "Epoch: 1650 | Loss: 0.32792, Accuracy: 84.64% | Test loss: 0.33230, Test acc: 84.77%\n",
      "Epoch: 1700 | Loss: 0.32785, Accuracy: 84.66% | Test loss: 0.33226, Test acc: 84.77%\n",
      "Epoch: 1750 | Loss: 0.32779, Accuracy: 84.66% | Test loss: 0.33214, Test acc: 84.73%\n",
      "Epoch: 1800 | Loss: 0.32772, Accuracy: 84.67% | Test loss: 0.33216, Test acc: 84.73%\n",
      "Epoch: 1850 | Loss: 0.32766, Accuracy: 84.67% | Test loss: 0.33212, Test acc: 84.73%\n",
      "Epoch: 1900 | Loss: 0.32760, Accuracy: 84.67% | Test loss: 0.33209, Test acc: 84.73%\n",
      "Epoch: 1950 | Loss: 0.32754, Accuracy: 84.67% | Test loss: 0.33199, Test acc: 84.72%\n",
      "Epoch: 2000 | Loss: 0.32748, Accuracy: 84.68% | Test loss: 0.33193, Test acc: 84.73%\n",
      "Epoch: 2050 | Loss: 0.32743, Accuracy: 84.67% | Test loss: 0.33186, Test acc: 84.77%\n",
      "Epoch: 2100 | Loss: 0.32736, Accuracy: 84.69% | Test loss: 0.33181, Test acc: 84.77%\n",
      "Epoch: 2150 | Loss: 0.32729, Accuracy: 84.69% | Test loss: 0.33174, Test acc: 84.70%\n",
      "Epoch: 2200 | Loss: 0.32722, Accuracy: 84.69% | Test loss: 0.33173, Test acc: 84.68%\n",
      "Epoch: 2250 | Loss: 0.32712, Accuracy: 84.67% | Test loss: 0.33159, Test acc: 84.72%\n",
      "Epoch: 2300 | Loss: 0.32701, Accuracy: 84.69% | Test loss: 0.33146, Test acc: 84.65%\n",
      "Epoch: 2350 | Loss: 0.32689, Accuracy: 84.72% | Test loss: 0.33129, Test acc: 84.66%\n",
      "Epoch: 2400 | Loss: 0.32675, Accuracy: 84.75% | Test loss: 0.33090, Test acc: 84.61%\n",
      "Epoch: 2450 | Loss: 0.32653, Accuracy: 84.74% | Test loss: 0.33000, Test acc: 84.68%\n",
      "Epoch: 2500 | Loss: 0.32554, Accuracy: 84.74% | Test loss: 0.32832, Test acc: 84.75%\n",
      "Epoch: 2550 | Loss: 0.32463, Accuracy: 84.77% | Test loss: 0.32759, Test acc: 84.77%\n",
      "Epoch: 2600 | Loss: 0.32412, Accuracy: 84.78% | Test loss: 0.32720, Test acc: 84.87%\n",
      "Epoch: 2650 | Loss: 0.32339, Accuracy: 84.80% | Test loss: 0.32638, Test acc: 84.80%\n",
      "Epoch: 2700 | Loss: 0.32292, Accuracy: 84.83% | Test loss: 0.32589, Test acc: 84.73%\n",
      "Epoch: 2750 | Loss: 0.32252, Accuracy: 84.81% | Test loss: 0.32524, Test acc: 84.80%\n",
      "Epoch: 2800 | Loss: 0.32221, Accuracy: 84.85% | Test loss: 0.32498, Test acc: 84.78%\n",
      "Epoch: 2850 | Loss: 0.32193, Accuracy: 84.86% | Test loss: 0.32472, Test acc: 84.78%\n",
      "Epoch: 2900 | Loss: 0.32170, Accuracy: 84.86% | Test loss: 0.32434, Test acc: 84.90%\n",
      "Epoch: 2950 | Loss: 0.32145, Accuracy: 84.90% | Test loss: 0.32432, Test acc: 84.85%\n",
      "Epoch: 3000 | Loss: 0.32140, Accuracy: 84.87% | Test loss: 0.32490, Test acc: 84.82%\n",
      "Epoch: 3050 | Loss: 0.32106, Accuracy: 84.94% | Test loss: 0.32405, Test acc: 84.82%\n",
      "Epoch: 3100 | Loss: 0.32086, Accuracy: 84.96% | Test loss: 0.32395, Test acc: 84.82%\n",
      "Epoch: 3150 | Loss: 0.32068, Accuracy: 85.01% | Test loss: 0.32402, Test acc: 84.78%\n",
      "Epoch: 3200 | Loss: 0.32053, Accuracy: 85.02% | Test loss: 0.32394, Test acc: 84.82%\n",
      "Epoch: 3250 | Loss: 0.32040, Accuracy: 85.01% | Test loss: 0.32410, Test acc: 84.97%\n",
      "Epoch: 3300 | Loss: 0.32027, Accuracy: 85.04% | Test loss: 0.32385, Test acc: 84.90%\n",
      "Epoch: 3350 | Loss: 0.32017, Accuracy: 85.05% | Test loss: 0.32372, Test acc: 84.87%\n",
      "Epoch: 3400 | Loss: 0.32007, Accuracy: 85.04% | Test loss: 0.32383, Test acc: 84.92%\n",
      "Epoch: 3450 | Loss: 0.31997, Accuracy: 85.03% | Test loss: 0.32380, Test acc: 84.92%\n",
      "Epoch: 3500 | Loss: 0.31989, Accuracy: 85.04% | Test loss: 0.32388, Test acc: 84.97%\n",
      "Epoch: 3550 | Loss: 0.31981, Accuracy: 85.04% | Test loss: 0.32384, Test acc: 84.94%\n",
      "Epoch: 3600 | Loss: 0.31974, Accuracy: 85.03% | Test loss: 0.32379, Test acc: 84.92%\n",
      "Epoch: 3650 | Loss: 0.31967, Accuracy: 85.03% | Test loss: 0.32380, Test acc: 85.01%\n",
      "Epoch: 3700 | Loss: 0.31962, Accuracy: 85.03% | Test loss: 0.32376, Test acc: 84.95%\n",
      "Epoch: 3750 | Loss: 0.31956, Accuracy: 85.05% | Test loss: 0.32379, Test acc: 85.01%\n",
      "Epoch: 3800 | Loss: 0.31951, Accuracy: 85.06% | Test loss: 0.32381, Test acc: 85.02%\n",
      "Epoch: 3850 | Loss: 0.31952, Accuracy: 85.03% | Test loss: 0.32428, Test acc: 85.06%\n",
      "Epoch: 3900 | Loss: 0.31942, Accuracy: 85.05% | Test loss: 0.32379, Test acc: 85.06%\n",
      "Epoch: 3950 | Loss: 0.31938, Accuracy: 85.06% | Test loss: 0.32384, Test acc: 85.06%\n",
      "Epoch: 4000 | Loss: 0.31934, Accuracy: 85.07% | Test loss: 0.32388, Test acc: 85.07%\n",
      "Epoch: 4050 | Loss: 0.31931, Accuracy: 85.05% | Test loss: 0.32374, Test acc: 84.97%\n",
      "Epoch: 4100 | Loss: 0.31927, Accuracy: 85.06% | Test loss: 0.32388, Test acc: 85.06%\n",
      "Epoch: 4150 | Loss: 0.31924, Accuracy: 85.06% | Test loss: 0.32389, Test acc: 85.04%\n",
      "Epoch: 4200 | Loss: 0.31920, Accuracy: 85.07% | Test loss: 0.32391, Test acc: 85.04%\n",
      "Epoch: 4250 | Loss: 0.31918, Accuracy: 85.06% | Test loss: 0.32375, Test acc: 84.99%\n",
      "Epoch: 4300 | Loss: 0.31915, Accuracy: 85.07% | Test loss: 0.32392, Test acc: 85.04%\n",
      "Epoch: 4350 | Loss: 0.31912, Accuracy: 85.07% | Test loss: 0.32393, Test acc: 85.02%\n",
      "Epoch: 4400 | Loss: 0.31910, Accuracy: 85.07% | Test loss: 0.32394, Test acc: 85.01%\n",
      "Epoch: 4450 | Loss: 0.31962, Accuracy: 85.01% | Test loss: 0.32541, Test acc: 84.87%\n",
      "Epoch: 4500 | Loss: 0.31905, Accuracy: 85.07% | Test loss: 0.32389, Test acc: 84.97%\n",
      "Epoch: 4550 | Loss: 0.31903, Accuracy: 85.07% | Test loss: 0.32397, Test acc: 84.97%\n",
      "Epoch: 4600 | Loss: 0.31901, Accuracy: 85.07% | Test loss: 0.32398, Test acc: 84.97%\n",
      "Epoch: 4650 | Loss: 0.31899, Accuracy: 85.07% | Test loss: 0.32398, Test acc: 84.94%\n",
      "Epoch: 4700 | Loss: 0.31901, Accuracy: 85.10% | Test loss: 0.32379, Test acc: 84.99%\n",
      "Epoch: 4750 | Loss: 0.31896, Accuracy: 85.07% | Test loss: 0.32403, Test acc: 84.94%\n",
      "Epoch: 4800 | Loss: 0.31894, Accuracy: 85.09% | Test loss: 0.32401, Test acc: 84.95%\n",
      "Epoch: 4850 | Loss: 0.31893, Accuracy: 85.09% | Test loss: 0.32390, Test acc: 84.92%\n",
      "Epoch: 4900 | Loss: 0.31891, Accuracy: 85.08% | Test loss: 0.32403, Test acc: 84.94%\n",
      "Epoch: 4950 | Loss: 0.31889, Accuracy: 85.09% | Test loss: 0.32403, Test acc: 84.92%\n"
     ]
    }
   ],
   "source": [
    "from torch import nn\n",
    "loss_fn = torch.nn.BCEWithLogitsLoss()\n",
    "optimizer = torch.optim.Adam(model.parameters(), \n",
    "                             lr=1.0e-2)\n",
    "def accuracy_fn(y_true, y_pred):\n",
    "    correct = torch.eq(y_true, y_pred).sum().item() \n",
    "    acc = (correct / len(y_pred)) * 100 \n",
    "    return acc\n",
    "\n",
    "def learn_binary_classification_model(model, n_epochs, print_every_epoch=None):\n",
    "    if print_every_epoch is None:\n",
    "        print_every_epoch = n_epochs / 100\n",
    "    torch.manual_seed(42)\n",
    "\n",
    "    for epoch in range(n_epochs):\n",
    "        ### Обучение\n",
    "        model.train()\n",
    "\n",
    "        y_logits = model(X_train).squeeze()\n",
    "        y_pred = torch.round(torch.sigmoid(y_logits)) \n",
    "\n",
    "        loss = loss_fn(y_logits,\n",
    "                       y_train.float()) \n",
    "        acc = accuracy_fn(y_true=y_train, \n",
    "                          y_pred=y_pred) \n",
    "\n",
    "        optimizer.zero_grad()\n",
    "        loss.backward()\n",
    "\n",
    "        optimizer.step()\n",
    "\n",
    "        model.eval()\n",
    "        with torch.inference_mode():\n",
    "      \n",
    "            test_logits = model(X_test).squeeze() \n",
    "            test_pred = torch.round(torch.sigmoid(test_logits))\n",
    "     \n",
    "            test_loss = loss_fn(test_logits,\n",
    "                                y_test.float())\n",
    "            test_acc = accuracy_fn(y_true=y_test,\n",
    "                                   y_pred=test_pred)\n",
    "\n",
    "      \n",
    "        if epoch % print_every_epoch == 0:\n",
    "            print(f\"Epoch: {epoch:3} | Loss: {loss:.5f}, Accuracy: {acc:.2f}% | Test loss: {test_loss:.5f}, Test acc: {test_acc:.2f}%\")\n",
    "    \n",
    "    \n",
    "learn_binary_classification_model(model, 5000)"
   ]
  },
  {
   "cell_type": "code",
   "execution_count": null,
   "id": "63631ad4",
   "metadata": {},
   "outputs": [],
   "source": []
  }
 ],
 "metadata": {
  "kernelspec": {
   "display_name": "Python 3 (ipykernel)",
   "language": "python",
   "name": "python3"
  },
  "language_info": {
   "codemirror_mode": {
    "name": "ipython",
    "version": 3
   },
   "file_extension": ".py",
   "mimetype": "text/x-python",
   "name": "python",
   "nbconvert_exporter": "python",
   "pygments_lexer": "ipython3",
   "version": "3.9.12"
  }
 },
 "nbformat": 4,
 "nbformat_minor": 5
}
